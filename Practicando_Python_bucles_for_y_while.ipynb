{
  "nbformat": 4,
  "nbformat_minor": 0,
  "metadata": {
    "colab": {
      "provenance": [],
      "include_colab_link": true
    },
    "kernelspec": {
      "name": "python3",
      "display_name": "Python 3"
    },
    "language_info": {
      "name": "python"
    }
  },
  "cells": [
    {
      "cell_type": "markdown",
      "metadata": {
        "id": "view-in-github",
        "colab_type": "text"
      },
      "source": [
        "<a href=\"https://colab.research.google.com/github/RolandVizz/fundamentos-python-ciencia-datos/blob/main/Practicando_Python_bucles_for_y_while.ipynb\" target=\"_parent\"><img src=\"https://colab.research.google.com/assets/colab-badge.svg\" alt=\"Open In Colab\"/></a>"
      ]
    },
    {
      "cell_type": "markdown",
      "source": [
        "## Comprendiendo lazos"
      ],
      "metadata": {
        "id": "uXt-BXGb9ofY"
      }
    },
    {
      "cell_type": "markdown",
      "source": [
        "Ana está desarrollando un programa que necesita procesar una lista de 5 nombres de clientes para generar informes mensuales. Para ello, necesita escribir un programa que recorra la lista de nombres y muestre cada cliente.\n",
        "\n",
        "*clientes = [\"Juan\", \"Maria\", \"Carlos\", \"Ana\", \"Beatriz\"]*\n",
        "\n",
        "Ayuda a Ana a decidir entre usar un lazo for o while. Escribe el programa usando el lazo que creas más adecuado para esta tarea y explica por qué elegiste ese lazo."
      ],
      "metadata": {
        "id": "WkovDJTNBHNd"
      }
    },
    {
      "cell_type": "code",
      "source": [
        "clientes = [\"Juan\", \"Maria\", \"Carlos\", \"Ana\", \"Beatriz\"]\n",
        "\n",
        "# Para recorrer la lista recomiendo utilizar el bucle for, ya que podrémos iterar\n",
        "# por todos los elementos sin definir un número de iteraciones, es decir, que si la\n",
        "# lista crece, el bucle seguirá cumpliendo su función sin tener que modificarlo.\n",
        "# En cambio, un bucle while es más utilizado cuando estamos recibiendo valores constantes\n",
        "# y no sabemos cuál será el límite de los mismos, por ejemplo.\n",
        "\n",
        "for cliente in clientes:\n",
        "    print(cliente)"
      ],
      "metadata": {
        "colab": {
          "base_uri": "https://localhost:8080/"
        },
        "id": "RljOFtdS_kPT",
        "outputId": "1eed577c-cffe-4a0c-dc06-432b79ed791e"
      },
      "execution_count": null,
      "outputs": [
        {
          "output_type": "stream",
          "name": "stdout",
          "text": [
            "Juan\n",
            "Maria\n",
            "Carlos\n",
            "Ana\n",
            "Beatriz\n"
          ]
        }
      ]
    },
    {
      "cell_type": "markdown",
      "source": [
        "## ¿Qué es un bucle infinito?"
      ],
      "metadata": {
        "id": "CPfD1Gjw9t-F"
      }
    },
    {
      "cell_type": "markdown",
      "source": [
        "André está probando una nueva función en el backend de Buscante que procesa datos en un bucle. Durante las pruebas, se dio cuenta de que el sistema dejó de responder y sospecha que el problema está en un bucle infinito.\n",
        "\n",
        "*contador = 0*\n",
        "\n",
        "*while contador < 10:*  \n",
        "  *print(\\\"Procesando datos...\\\")*\n",
        "\n",
        "¿Cuál es el problema del código de André y cómo resolverlo?"
      ],
      "metadata": {
        "id": "WVbbdXHZBQSW"
      }
    },
    {
      "cell_type": "code",
      "source": [
        "contador = 0\n",
        "\n",
        "# El problema es que contador no se está sumando en cada iteración y esto provoca que el bucle\n",
        "# nunca termine\n",
        "while contador < 10:\n",
        "    print(\"Procesando datos...\")\n",
        "    contador += 1"
      ],
      "metadata": {
        "colab": {
          "base_uri": "https://localhost:8080/"
        },
        "id": "cz7xMFJt__SI",
        "outputId": "9477c5ac-e474-4284-ed4f-b6ce202ac145"
      },
      "execution_count": null,
      "outputs": [
        {
          "output_type": "stream",
          "name": "stdout",
          "text": [
            "Procesando datos...\n",
            "Procesando datos...\n",
            "Procesando datos...\n",
            "Procesando datos...\n",
            "Procesando datos...\n",
            "Procesando datos...\n",
            "Procesando datos...\n",
            "Procesando datos...\n",
            "Procesando datos...\n",
            "Procesando datos...\n"
          ]
        }
      ]
    },
    {
      "cell_type": "markdown",
      "source": [
        "## ¿Cuántas veces se mostrará el mensaje?"
      ],
      "metadata": {
        "id": "WdffAQlW9v2z"
      }
    },
    {
      "cell_type": "markdown",
      "source": [
        "Marcos está desarrollando un programa para mostrar un mensaje de bienvenida repetidamente en la consola, como parte de una campaña de marketing de su plataforma llamada Buscante. Quiere asegurarse de que el mensaje se muestre 5 veces.\n",
        "\n",
        "Ayuda a Marcos a escribir un programa que muestre el mensaje: \"¡Bienvenido a Buscante!\" el número exacto de veces que necesita.\n",
        "\n",
        "**Salida esperada:**  \n",
        "![Imagen](https://cdn1.gnarususercontent.com.br/6/103811/dc9ad600-f2f7-4a14-bc32-717abb128876.png)"
      ],
      "metadata": {
        "id": "fmg4_fXQBhAp"
      }
    },
    {
      "cell_type": "code",
      "source": [
        "for i in range(0,5):\n",
        "    print('¡Bienvenido a Buscante!')"
      ],
      "metadata": {
        "colab": {
          "base_uri": "https://localhost:8080/"
        },
        "id": "B4YhKeqRAVFG",
        "outputId": "f90f027c-206a-41bb-f102-ca96618fa460"
      },
      "execution_count": null,
      "outputs": [
        {
          "output_type": "stream",
          "name": "stdout",
          "text": [
            "¡Bienvenido a Buscante!\n",
            "¡Bienvenido a Buscante!\n",
            "¡Bienvenido a Buscante!\n",
            "¡Bienvenido a Buscante!\n",
            "¡Bienvenido a Buscante!\n"
          ]
        }
      ]
    },
    {
      "cell_type": "markdown",
      "source": [
        "## Calculando la suma de números"
      ],
      "metadata": {
        "id": "xXELEAJG9xsb"
      }
    },
    {
      "cell_type": "markdown",
      "source": [
        "Estás recibiendo una lista de valores que representan los productos de tu tienda virtual y te gustaría calcular la suma total de esos productos para entender el desempeño financiero semanal.\n",
        "\n",
        "*valores = [10, 20, 30, 40, 50]*\n",
        "\n",
        "Crea un programa para implementar la suma.\n",
        "\n",
        "**Salida esperada:**  \n",
        "![Imagen](https://cdn1.gnarususercontent.com.br/6/103811/19341759-b26b-4726-901d-c33276cede64.png)"
      ],
      "metadata": {
        "id": "gmvYn_KJBquQ"
      }
    },
    {
      "cell_type": "code",
      "source": [
        "valores = [10, 20, 30, 40, 50]\n",
        "total = 0\n",
        "\n",
        "for i in valores:\n",
        "    total += i\n",
        "\n",
        "print(f'La suma total de los ingresos es: {total}')"
      ],
      "metadata": {
        "colab": {
          "base_uri": "https://localhost:8080/"
        },
        "id": "1cC5RJaPAtYb",
        "outputId": "442eb757-409e-409b-a882-b09e6c1a4fa0"
      },
      "execution_count": null,
      "outputs": [
        {
          "output_type": "stream",
          "name": "stdout",
          "text": [
            "La suma total de los ingresos es: 150\n"
          ]
        }
      ]
    },
    {
      "cell_type": "markdown",
      "source": [
        "## Organizando tu portafolio"
      ],
      "metadata": {
        "id": "WsyRSNm-9zT5"
      }
    },
    {
      "cell_type": "markdown",
      "source": [
        "Ana está desarrollando su portafolio para exhibir los proyectos de Python que ha completado. Ella organizó una lista con el nombre de cada proyecto, pero se dio cuenta de que algunos elementos pueden estar ausentes, apareciendo como None:\n",
        "\n",
        "*proyectos = [\"sitio web\", \"juego\", \"análisis de datos\", None, \"aplicativo móvil\"]*\n",
        "\n",
        "Crea un programa que ayude a Ana a recorrer la lista de proyectos y muestre los nombres de los proyectos válidos. Si encuentra un elemento None, el programa debe mostrar el mensaje: \"Proyecto ausente\".\n",
        "\n",
        "**Salida esperada:**  \n",
        "![Imagen](https://cdn1.gnarususercontent.com.br/6/103811/d4511970-110d-4216-96db-2729c04f3ffa.png)"
      ],
      "metadata": {
        "id": "rBaRqLkoB3EO"
      }
    },
    {
      "cell_type": "code",
      "source": [
        "proyectos = [\"sitio web\", \"juego\", \"análisis de datos\", None, \"aplicativo móvil\"]\n",
        "\n",
        "for proyecto in proyectos:\n",
        "    if proyecto == None:\n",
        "        print('Proyecto ausente')\n",
        "    else:\n",
        "        print(proyecto)"
      ],
      "metadata": {
        "colab": {
          "base_uri": "https://localhost:8080/"
        },
        "id": "l3Lj5-XuBGa0",
        "outputId": "1d6479a3-0aa6-48a3-e8ef-2e9c9a682038"
      },
      "execution_count": null,
      "outputs": [
        {
          "output_type": "stream",
          "name": "stdout",
          "text": [
            "sitio web\n",
            "juego\n",
            "análisis de datos\n",
            "Proyecto ausente\n",
            "aplicativo móvil\n"
          ]
        }
      ]
    },
    {
      "cell_type": "markdown",
      "source": [
        "## Entendiendo el uso del break"
      ],
      "metadata": {
        "id": "AP--Bcb490t4"
      }
    },
    {
      "cell_type": "markdown",
      "source": [
        "José está desarrollando una funcionalidad en el sistema de Buscante para interrumpir la búsqueda tan pronto como se encuentre un libro específico. La lista de libros ya registrados en el sistema es la siguiente:\n",
        "\n",
        "*libros = [\"1984\", \"Cien años de soledad\", \"El Principito\", \"El Hobbit\", \"Orgullo y Prejuicio\"]*\n",
        "\n",
        "Ayuda a José a crear un programa que recorra la lista y muestre el mensaje \"Libro encontrado: <nombre del libro>\" tan pronto como se encuentre el libro \"El Hobbit\". Después de encontrar el libro, el programa debe detener inmediatamente la búsqueda, sin verificar los libros restantes.\n",
        "\n",
        "**Salida esperada:**  \n",
        "![Imagen](https://cdn1.gnarususercontent.com.br/6/103811/b1189097-8b7b-4ee7-b9ba-b698fde4dca9.png)"
      ],
      "metadata": {
        "id": "8T-9iLCiCA_0"
      }
    },
    {
      "cell_type": "code",
      "source": [
        "libros = [\"1984\", \"Cien años de soledad\", \"El Principito\", \"El Hobbit\", \"Orgullo y Prejuicio\"]\n",
        "libro_esperado = 'El Hobbit'\n",
        "\n",
        "for libro in libros:\n",
        "    if libro == libro_esperado:\n",
        "        print(f'Libro encontrado: {libro}')"
      ],
      "metadata": {
        "colab": {
          "base_uri": "https://localhost:8080/"
        },
        "id": "0Dp8JCIXCnWe",
        "outputId": "e5cf01d6-5127-42f2-a621-ccf6a5552906"
      },
      "execution_count": null,
      "outputs": [
        {
          "output_type": "stream",
          "name": "stdout",
          "text": [
            "Libro encontrado: El Hobbit\n"
          ]
        }
      ]
    },
    {
      "cell_type": "markdown",
      "source": [
        "## Control de inventario"
      ],
      "metadata": {
        "id": "lwSh9f0j916g"
      }
    },
    {
      "cell_type": "markdown",
      "source": [
        "Estás desarrollando un sistema de control de inventario para Buscante. Uno de los requisitos es verificar la cantidad de ejemplares de un libro en inventario y continuar vendiendo hasta que el inventario se agote. Siempre que se realiza una venta, el sistema debe informar al usuario y actualizar la cantidad disponible.\n",
        "\n",
        "Crea un programa que simule las ventas de un libro con el inventario inicial de 5 ejemplares. El programa debe mostrar el mensaje \"¡Venta realizada! Inventario restante: <cantidad>\" con cada venta y, al final, mostrar el mensaje \"Inventario agotado\".\n",
        "\n",
        "**Salida esperada:**  \n",
        "![Imagen](https://cdn1.gnarususercontent.com.br/6/103811/8379adda-6bf0-46d6-97ba-1f6a9048ab3d.png)"
      ],
      "metadata": {
        "id": "cYKVU8q1CNO2"
      }
    },
    {
      "cell_type": "code",
      "source": [
        "libro = 5\n",
        "\n",
        "while libro > 0:\n",
        "    print(f'¡Venta realizada! Inventario restante: {libro}')\n",
        "    libro -= 1\n",
        "else:\n",
        "    print('Inventario agotado.')"
      ],
      "metadata": {
        "colab": {
          "base_uri": "https://localhost:8080/"
        },
        "id": "AcdKGaFiDRpH",
        "outputId": "f7c763cf-53ca-4ace-a5cc-85cc45332066"
      },
      "execution_count": null,
      "outputs": [
        {
          "output_type": "stream",
          "name": "stdout",
          "text": [
            "¡Venta realizada! Inventario restante: 5\n",
            "¡Venta realizada! Inventario restante: 4\n",
            "¡Venta realizada! Inventario restante: 3\n",
            "¡Venta realizada! Inventario restante: 2\n",
            "¡Venta realizada! Inventario restante: 1\n",
            "Inventario agotado.\n"
          ]
        }
      ]
    },
    {
      "cell_type": "markdown",
      "source": [
        "## Cuenta Regresiva"
      ],
      "metadata": {
        "id": "6CJvC0Bm93LG"
      }
    },
    {
      "cell_type": "markdown",
      "source": [
        "Aline está implementando una funcionalidad que muestra mensajes personalizados para los clientes durante una promoción especial de su nueva librería. El sistema debe mostrar un mensaje de cuenta regresiva personalizado para cada número de 10 a 1, y al final mostrar el mensaje: \"¡Aprovecha la promoción ahora!\".\n",
        "\n",
        "Crea un programa que utilice un bucle for para mostrar los siguientes mensajes:\n",
        "\n",
        "* Para números pares, muestra: \"Faltan solo <número> segundos - ¡No pierdas esta oportunidad!\".\n",
        "* Para números impares, muestra: \"La cuenta continúa: <número> segundos restantes.\".\n",
        "* Al final de la cuenta, muestra el mensaje: \"¡Aprovecha la promoción ahora!\".\n",
        "\n",
        "**Salida esperada:**  \n",
        "![Imagen](https://cdn1.gnarususercontent.com.br/6/103811/7dce8410-a522-4245-8017-8f825a0fda1a.png)"
      ],
      "metadata": {
        "id": "nHz-XcMsCUQs"
      }
    },
    {
      "cell_type": "code",
      "source": [
        "for i in reversed(range(0,10)):\n",
        "    if i % 2 == 0:\n",
        "        print(f'Faltan solo {i + 1} segundos - ¡No pierdas esta oportunidad!\".')\n",
        "    elif i % 2 == 1:\n",
        "        print(f'La cuenta continúa: {i + 1} segundos restantes.')\n",
        "\n",
        "print('¡Aprovecha la promoción ahora!')"
      ],
      "metadata": {
        "colab": {
          "base_uri": "https://localhost:8080/"
        },
        "id": "KKPRwV7oEm3C",
        "outputId": "e01e53f1-2e9b-4b9b-c54b-fd08149c3804"
      },
      "execution_count": null,
      "outputs": [
        {
          "output_type": "stream",
          "name": "stdout",
          "text": [
            "La cuenta continúa: 10 segundos restantes.\n",
            "Faltan solo 9 segundos - ¡No pierdas esta oportunidad!\".\n",
            "La cuenta continúa: 8 segundos restantes.\n",
            "Faltan solo 7 segundos - ¡No pierdas esta oportunidad!\".\n",
            "La cuenta continúa: 6 segundos restantes.\n",
            "Faltan solo 5 segundos - ¡No pierdas esta oportunidad!\".\n",
            "La cuenta continúa: 4 segundos restantes.\n",
            "Faltan solo 3 segundos - ¡No pierdas esta oportunidad!\".\n",
            "La cuenta continúa: 2 segundos restantes.\n",
            "Faltan solo 1 segundos - ¡No pierdas esta oportunidad!\".\n",
            "¡Aprovecha la promoción ahora!\n"
          ]
        }
      ]
    },
    {
      "cell_type": "markdown",
      "source": [
        "## Utilidad del continue en bucles"
      ],
      "metadata": {
        "id": "6LLxAnvu94gH"
      }
    },
    {
      "cell_type": "markdown",
      "source": [
        "Ana está implementando un sistema de filtrado de libros en Buscante. La funcionalidad debe recorrer una lista de libros y mostrar el nombre de cada libro disponible en stock. Sin embargo, si el libro está agotado, debe ser ignorado durante la iteración.\n",
        "\n",
        "libros = [{\"nombre\": \"1984\", \"stock\": 5},  \n",
        "&emsp; &emsp; &emsp; {\"nombre\": \"Dom Casmurro\", \"stock\": 0},  \n",
        "&emsp; &emsp; &emsp; {\"nombre\": \"El Principito\", \"stock\": 3},  \n",
        "&emsp; &emsp; &emsp; {\"nombre\": \"El Hobbit\", \"stock\": 0},  \n",
        "&emsp; &emsp; &emsp; {\"nombre\": \"Orgullo y Prejuicio\", \"stock\": 2}  \n",
        "&emsp; &emsp; &emsp; ]\n",
        "\n",
        "Crea un programa que ayude a Ana a mostrar solamente los libros que tienen stock disponible, en el formato: \"Libro disponible: <nombre del libro>\".\n",
        "\n",
        "**Salida esperada:**  \n",
        "![Imagen](https://cdn1.gnarususercontent.com.br/6/103811/60404d42-8950-4ca2-b69c-15fb6c86d38f.png)"
      ],
      "metadata": {
        "id": "q8b1O8sGCliN"
      }
    },
    {
      "cell_type": "code",
      "source": [
        "libros = [{\"nombre\": \"1984\", \"stock\": 5},\n",
        "{\"nombre\": \"Dom Casmurro\", \"stock\": 0},\n",
        "{\"nombre\": \"El Principito\", \"stock\": 3},\n",
        "{\"nombre\": \"El Hobbit\", \"stock\": 0},\n",
        "{\"nombre\": \"Orgullo y Prejuicio\", \"stock\": 2}\n",
        "]\n",
        "\n",
        "for libro in libros:\n",
        "    if libro['stock'] > 0:\n",
        "        print(f'Libro disponible: {libro[\"nombre\"]}')"
      ],
      "metadata": {
        "colab": {
          "base_uri": "https://localhost:8080/"
        },
        "id": "DZNZ_YirKegk",
        "outputId": "c580a030-2a4d-42f1-e761-ba8ca2209b20"
      },
      "execution_count": null,
      "outputs": [
        {
          "output_type": "stream",
          "name": "stdout",
          "text": [
            "Libro disponible: 1984\n",
            "Libro disponible: El Principito\n",
            "Libro disponible: Orgullo y Prejuicio\n"
          ]
        }
      ]
    },
    {
      "cell_type": "markdown",
      "source": [
        "## Validación de entrada para inicio de sesión"
      ],
      "metadata": {
        "id": "xry_Gy6T96Gt"
      }
    },
    {
      "cell_type": "markdown",
      "source": [
        "João está desarrollando un sistema de registro para un sitio de lectura. Necesita asegurarse de que los usuarios ingresen un nombre de usuario y una contraseña válidos. Las reglas son las siguientes:\n",
        "\n",
        "* El nombre de usuario debe tener al menos 5 caracteres.\n",
        "* La contraseña debe tener al menos 8 caracteres.\n",
        "\n",
        "João quiere que el sistema siga solicitando la información hasta que ambas condiciones se cumplan. Cuando el usuario ingresa datos válidos, el programa debe mostrar el mensaje: \"¡Registro realizado con éxito!\".\n",
        "\n",
        "Crea un programa que implemente esta lógica usando un bucle while.\n",
        "\n",
        "**Salida esperada:**  \n",
        "![Imagen](https://cdn1.gnarususercontent.com.br/6/103811/c7e2be50-1f2e-4a14-8f0c-aa6f2a6fbdcf.png)"
      ],
      "metadata": {
        "id": "MUUWvrvZDe8k"
      }
    },
    {
      "cell_type": "code",
      "source": [
        "while True:\n",
        "    nombre_usuario = input('Ingresa tu usuario: ')\n",
        "    contrasenia = input('Ingresa tu contrasenia: ')\n",
        "\n",
        "    if len(nombre_usuario) < 5 and len(contrasenia) >= 8:\n",
        "        print('El nombre de usuario debe tener al menos 5 caracteres.')\n",
        "    elif len(contrasenia) < 8 and len(nombre_usuario) >= 5:\n",
        "        print('La contraseña debe tener al menos 8 caracteres.')\n",
        "    elif len(nombre_usuario) >= 5 and len(contrasenia) >= 8:\n",
        "        print('¡Registro realizado con éxito!')\n",
        "        break\n",
        "    else:\n",
        "        print('El nombre de usuario debe tener al menos 5 caracteres. \\nLa contraseña debe tener al menos 8 caracteres.')"
      ],
      "metadata": {
        "colab": {
          "base_uri": "https://localhost:8080/"
        },
        "id": "cS9YtouTPAit",
        "outputId": "aecb91c7-b0e0-4860-cef6-b9b9d3e00d43"
      },
      "execution_count": null,
      "outputs": [
        {
          "output_type": "stream",
          "name": "stdout",
          "text": [
            "Ingresa tu usuario: 123\n",
            "Ingresa tu contrasenia: 12345678\n",
            "El nombre de usuario debe tener al menos 5 caracteres.\n",
            "Ingresa tu usuario: 12345\n",
            "Ingresa tu contrasenia: 123\n",
            "La contraseña debe tener al menos 8 caracteres.\n",
            "Ingresa tu usuario: 12345\n",
            "Ingresa tu contrasenia: 12345678\n",
            "¡Registro realizado con éxito!\n"
          ]
        }
      ]
    }
  ]
}