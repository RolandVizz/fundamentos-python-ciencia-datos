{
  "nbformat": 4,
  "nbformat_minor": 0,
  "metadata": {
    "colab": {
      "provenance": [],
      "collapsed_sections": [
        "nmzniXNwLOFF"
      ],
      "authorship_tag": "ABX9TyMmK792zdjMgaHzaV0WojK2",
      "include_colab_link": true
    },
    "kernelspec": {
      "name": "python3",
      "display_name": "Python 3"
    },
    "language_info": {
      "name": "python"
    }
  },
  "cells": [
    {
      "cell_type": "markdown",
      "metadata": {
        "id": "view-in-github",
        "colab_type": "text"
      },
      "source": [
        "<a href=\"https://colab.research.google.com/github/RolandVizz/fundamentos-python-ciencia-datos/blob/main/Desafios_Python_para_Data_Science_primeros_pasos.ipynb\" target=\"_parent\"><img src=\"https://colab.research.google.com/assets/colab-badge.svg\" alt=\"Open In Colab\"/></a>"
      ]
    },
    {
      "cell_type": "markdown",
      "source": [
        "# Ejercicios"
      ],
      "metadata": {
        "id": "BJXNWkDZtXUy"
      }
    },
    {
      "cell_type": "markdown",
      "source": [
        "## Desafio 1"
      ],
      "metadata": {
        "id": "nmzniXNwLOFF"
      }
    },
    {
      "cell_type": "markdown",
      "source": [
        "1 - Imprime la frase \"Escuela de Datos de Alura\"."
      ],
      "metadata": {
        "id": "jQSW5CJetQXC"
      }
    },
    {
      "cell_type": "code",
      "execution_count": null,
      "metadata": {
        "colab": {
          "base_uri": "https://localhost:8080/"
        },
        "id": "C44w7SNQtJOp",
        "outputId": "37001b0b-8500-4281-954b-63dd7df2b2b4"
      },
      "outputs": [
        {
          "output_type": "stream",
          "name": "stdout",
          "text": [
            "Escuela de Datos de Alura\n",
            "Orlando Vizzuett\n"
          ]
        }
      ],
      "source": [
        "print('Escuela de Datos de Alura')"
      ]
    },
    {
      "cell_type": "markdown",
      "source": [
        "2 - Imprime tu nombre y tu apellido siguiendo la estructura a continuación:"
      ],
      "metadata": {
        "id": "LCtjMkL3ty2O"
      }
    },
    {
      "cell_type": "code",
      "source": [
        "print('''\n",
        "Nombre: Orlando\n",
        "Apellido: Vizzuett''')"
      ],
      "metadata": {
        "colab": {
          "base_uri": "https://localhost:8080/"
        },
        "id": "HFRAArxUtzlp",
        "outputId": "dc888760-3a43-49c1-d4c0-707a9d433504"
      },
      "execution_count": null,
      "outputs": [
        {
          "output_type": "stream",
          "name": "stdout",
          "text": [
            "\n",
            "Nombre: Orlando\n",
            "Apellido: Vizzuett\n"
          ]
        }
      ]
    },
    {
      "cell_type": "markdown",
      "source": [
        "3 - Imprime tu primer nombre letra por letra. Por ejemplo, si mi nombre es Álvaro, la salida sería:"
      ],
      "metadata": {
        "id": "6uc1psV6t8hU"
      }
    },
    {
      "cell_type": "code",
      "source": [
        "# Variable donde colocar tu nombre\n",
        "nombre = 'Orlando'\n",
        "\n",
        "# Bucle itera del 0 al número de caracteres y después imprime uno por uno\n",
        "for i in range(0, len(nombre)):\n",
        "  print(nombre[i:i+1], end='\\n')"
      ],
      "metadata": {
        "colab": {
          "base_uri": "https://localhost:8080/"
        },
        "id": "t_axldtXuBTM",
        "outputId": "b7a2fd05-d85e-40ba-8f31-6373216578ac"
      },
      "execution_count": null,
      "outputs": [
        {
          "output_type": "stream",
          "name": "stdout",
          "text": [
            "O\n",
            "r\n",
            "l\n",
            "a\n",
            "n\n",
            "d\n",
            "o\n"
          ]
        }
      ]
    },
    {
      "cell_type": "markdown",
      "source": [
        "4 - Imprime tu fecha de nacimiento en formato día mes año. Recuerda que los valores de día y año no deben estar entre comillas. Suponiendo una fecha de cumpleaños el 28 de febrero de 2003, el formato debe ser como el siguiente:"
      ],
      "metadata": {
        "id": "8QRkcGOiv07d"
      }
    },
    {
      "cell_type": "code",
      "source": [
        "print(25,'Marzo',1996)"
      ],
      "metadata": {
        "colab": {
          "base_uri": "https://localhost:8080/"
        },
        "id": "1oigtDiRv2K8",
        "outputId": "038bec0f-08b3-4755-e6b1-5cbb6bb79a0a"
      },
      "execution_count": null,
      "outputs": [
        {
          "output_type": "stream",
          "name": "stdout",
          "text": [
            "25 Marzo 1996\n"
          ]
        }
      ]
    },
    {
      "cell_type": "markdown",
      "source": [
        "5 - Imprime, en una sola instrucción print, el año actual en el que estás realizando este curso. El valor del año debe ser un dato numérico, y la salida de print debe ser la siguiente:"
      ],
      "metadata": {
        "id": "8iK0PfF1wMfZ"
      }
    },
    {
      "cell_type": "code",
      "source": [
        "print('Año actual:', 2025)"
      ],
      "metadata": {
        "colab": {
          "base_uri": "https://localhost:8080/"
        },
        "id": "ZqNdTF3OwNSz",
        "outputId": "7e0f4a37-9f4a-46ae-80b8-8f4639107456"
      },
      "execution_count": null,
      "outputs": [
        {
          "output_type": "stream",
          "name": "stdout",
          "text": [
            "Año actual: 2025\n"
          ]
        }
      ]
    },
    {
      "cell_type": "markdown",
      "source": [
        "## Desafio 2"
      ],
      "metadata": {
        "id": "gjZshOLSLSpi"
      }
    },
    {
      "cell_type": "markdown",
      "source": [
        "1 - Crea un programa que solicite al usuario que escriba su nombre y luego imprima \"Hola, [nombre].\""
      ],
      "metadata": {
        "id": "Q4xRsHvxLbLV"
      }
    },
    {
      "cell_type": "code",
      "source": [
        "nombre_usuario = input('Ingresa tu nombre: ').strip()\n",
        "print(f'Hola, {nombre_usuario}.')"
      ],
      "metadata": {
        "colab": {
          "base_uri": "https://localhost:8080/"
        },
        "id": "i6uyfjbwLUj7",
        "outputId": "055c79e0-65fd-404d-8afb-0a581d62cd12"
      },
      "execution_count": null,
      "outputs": [
        {
          "output_type": "stream",
          "name": "stdout",
          "text": [
            "Ingresa tu nombre: Orlando     \n",
            "Hola, Orlando\n"
          ]
        }
      ]
    },
    {
      "cell_type": "markdown",
      "source": [
        "2 - Crea un programa que solicite al usuario que escriba su nombre y edad, y luego imprima \"Hola, [nombre], tienes [edad] años.\""
      ],
      "metadata": {
        "id": "96OT1YMfLsml"
      }
    },
    {
      "cell_type": "code",
      "source": [
        "nombre_usuario = input('Ingresa tu nombre: ').strip()\n",
        "edad_usuario = input('Ingresa tu edad: ')\n",
        "print(f'Hola, {nombre_usuario}, tienes {edad_usuario} años.')"
      ],
      "metadata": {
        "colab": {
          "base_uri": "https://localhost:8080/"
        },
        "id": "eU-GxqzNLunE",
        "outputId": "14167dc7-4822-471a-ffbd-04cd2ffa9f02"
      },
      "execution_count": null,
      "outputs": [
        {
          "output_type": "stream",
          "name": "stdout",
          "text": [
            "Ingresa tu nombre: Orlando\n",
            "Ingresa tu edad: 29\n",
            "Hola, Orlando, tienes 29 años.\n"
          ]
        }
      ]
    },
    {
      "cell_type": "markdown",
      "source": [
        "3 - Crea un programa que solicite al usuario que escriba su nombre, edad y altura en metros, y luego imprima \"Hola, [nombre], tienes [edad] años y mides [altura] metros.\""
      ],
      "metadata": {
        "id": "kD9n35c-MTcS"
      }
    },
    {
      "cell_type": "code",
      "source": [
        "nombre_usuario = input('Ingresa tu nombre: ').strip()\n",
        "edad_usuario = input('Ingresa tu edad: ').strip()\n",
        "altura_usuario = input('Ingresa tu altura (m): ').strip()\n",
        "print(f'Hola, {nombre_usuario}, tienes {edad_usuario} años y mides {altura_usuario} metros.')"
      ],
      "metadata": {
        "colab": {
          "base_uri": "https://localhost:8080/"
        },
        "id": "Ageb5UGtMUHw",
        "outputId": "3a0a67ba-1f27-44ef-dfba-d784a3d233e9"
      },
      "execution_count": null,
      "outputs": [
        {
          "output_type": "stream",
          "name": "stdout",
          "text": [
            "Ingresa tu nombre: Orlando\n",
            "Ingresa tu edad: 29\n",
            "Ingresa tu altura (m): 85\n",
            "Hola, Orlando, tienes 29 años y mides 85 metros.\n"
          ]
        }
      ]
    },
    {
      "cell_type": "markdown",
      "source": [
        "### Calculadora con operadores"
      ],
      "metadata": {
        "id": "7KS2y_NTQX_m"
      }
    },
    {
      "cell_type": "markdown",
      "source": [
        "4 - Crea un programa que solicite dos valores numéricos al usuario y luego imprima la suma de ambos valores."
      ],
      "metadata": {
        "id": "yi0Y-Z-kQr_j"
      }
    },
    {
      "cell_type": "code",
      "source": [
        "valor_uno = int(input('Ingresa el primer valor: ').strip())\n",
        "valor_dos = int(input('Ingresa el segundo valor: ').strip())\n",
        "print(f'El resultado de la suma es {valor_uno + valor_dos}')"
      ],
      "metadata": {
        "colab": {
          "base_uri": "https://localhost:8080/"
        },
        "id": "HPV--B17QZrH",
        "outputId": "e3539bc4-b236-404f-da48-45b734ca15a3"
      },
      "execution_count": null,
      "outputs": [
        {
          "output_type": "stream",
          "name": "stdout",
          "text": [
            "Ingresa el primer valor: 10\n",
            "Ingresa el segundo valor: 10\n",
            "El resultado de la suma es 20\n"
          ]
        }
      ]
    },
    {
      "cell_type": "markdown",
      "source": [
        "5 - Crea un programa que solicite tres valores numéricos al usuario y luego imprima la suma de los tres valores."
      ],
      "metadata": {
        "id": "OtfXO-PSRNTq"
      }
    },
    {
      "cell_type": "code",
      "source": [
        "valor_uno = int(input('Ingresa el primer valor: ').strip())\n",
        "valor_dos = int(input('Ingresa el segundo valor: ').strip())\n",
        "valor_tres = int(input('Ingresa el tercer valor: ').strip())\n",
        "print(f'El resultado de la suma es {valor_uno + valor_dos + valor_tres}')"
      ],
      "metadata": {
        "colab": {
          "base_uri": "https://localhost:8080/"
        },
        "id": "hBQ6ppt_RODE",
        "outputId": "6fc1cfc9-f4f5-4a21-e43a-f896c2e63c9e"
      },
      "execution_count": null,
      "outputs": [
        {
          "output_type": "stream",
          "name": "stdout",
          "text": [
            "Ingresa el primer valor: 10\n",
            "Ingresa el segundo valor: 10\n",
            "Ingresa el tercer valor: 10\n",
            "El resultado de la suma es 30\n"
          ]
        }
      ]
    },
    {
      "cell_type": "markdown",
      "source": [
        "6 - Crea un programa que solicite dos valores numéricos al usuario y luego imprima la resta del primero menos el segundo valor."
      ],
      "metadata": {
        "id": "y2zPBY7VRpnv"
      }
    },
    {
      "cell_type": "code",
      "source": [
        "valor_uno = int(input('Ingresa el primer valor: ').strip())\n",
        "valor_dos = int(input('Ingresa el segundo valor: ').strip())\n",
        "print(f'El resultado de la resta es {valor_uno - valor_dos}')"
      ],
      "metadata": {
        "colab": {
          "base_uri": "https://localhost:8080/"
        },
        "id": "xCKfwyrwRtOX",
        "outputId": "80244c9d-62ec-42c0-fe61-a610f8f22e43"
      },
      "execution_count": null,
      "outputs": [
        {
          "output_type": "stream",
          "name": "stdout",
          "text": [
            "Ingresa el primer valor: 10\n",
            "Ingresa el segundo valor: 5\n",
            "El resultado de la resta es 5\n"
          ]
        }
      ]
    },
    {
      "cell_type": "markdown",
      "source": [
        "7 - Crea un programa que solicite dos valores numéricos al usuario y luego imprima la multiplicación de los dos valores."
      ],
      "metadata": {
        "id": "uVB1x-v7R2vL"
      }
    },
    {
      "cell_type": "code",
      "source": [
        "valor_uno = int(input('Ingresa el primer valor: ').strip())\n",
        "valor_dos = int(input('Ingresa el segundo valor: ').strip())\n",
        "print(f'El resultado de la multiplicación es {valor_uno * valor_dos}')"
      ],
      "metadata": {
        "colab": {
          "base_uri": "https://localhost:8080/"
        },
        "id": "WZWOwWQQR3Y8",
        "outputId": "d55287a7-eee3-4bbd-e9c0-3f8b48fef0c9"
      },
      "execution_count": null,
      "outputs": [
        {
          "output_type": "stream",
          "name": "stdout",
          "text": [
            "Ingresa el primer valor: 1\n",
            "Ingresa el segundo valor: 10\n",
            "El resultado de la multiplicación es 10\n"
          ]
        }
      ]
    },
    {
      "cell_type": "markdown",
      "source": [
        "8 - Crea un programa que solicite dos valores numéricos, un numerador y un denominador, y realice la división entre los dos valores. Asegúrate de que el valor del denominador no sea igual a 0."
      ],
      "metadata": {
        "id": "rBC5fesWUBGJ"
      }
    },
    {
      "cell_type": "code",
      "source": [
        "valor_uno = int(input('Ingresa el primer valor: ').strip())\n",
        "valor_dos = int(input('Ingresa el segundo valor: ').strip())\n",
        "while not valor_dos != 0:\n",
        "  valor_dos = int(input('Ingresa un valor distinto a cero: ').strip())\n",
        "print(f'El resultado de la división es {valor_uno / valor_dos}')"
      ],
      "metadata": {
        "colab": {
          "base_uri": "https://localhost:8080/"
        },
        "id": "f56xneYAULGv",
        "outputId": "41beb15b-9cfe-4d74-f34d-4ac709801404"
      },
      "execution_count": null,
      "outputs": [
        {
          "output_type": "stream",
          "name": "stdout",
          "text": [
            "Ingresa el primer valor: 10\n",
            "Ingresa el segundo valor: 0\n",
            "Ingresa un valor distinto a cero: 2\n",
            "El resultado de la multiplicación es 5.0\n"
          ]
        }
      ]
    },
    {
      "cell_type": "markdown",
      "source": [
        "9 - Crea un programa que solicite dos valores numéricos, un operador y una potencia, y realice la exponenciación entre estos dos valores."
      ],
      "metadata": {
        "id": "icIJXB2tVEhF"
      }
    },
    {
      "cell_type": "code",
      "source": [
        "valor_uno = int(input('Ingresa el primer valor: ').strip())\n",
        "valor_dos = int(input('Ingresa el segundo valor: ').strip())\n",
        "print(f'El resultado de la potencia es {valor_uno ** valor_dos}')"
      ],
      "metadata": {
        "colab": {
          "base_uri": "https://localhost:8080/"
        },
        "id": "B4Sfos1fVGW5",
        "outputId": "a1a80b70-f09a-4ab3-cb78-591740f8e5c5"
      },
      "execution_count": null,
      "outputs": [
        {
          "output_type": "stream",
          "name": "stdout",
          "text": [
            "Ingresa el primer valor: 10\n",
            "Ingresa el segundo valor: 3\n",
            "El resultado de la potencia es 1000\n"
          ]
        }
      ]
    },
    {
      "cell_type": "markdown",
      "source": [
        "10 - Crea un programa que solicite dos valores numéricos, un numerador y un denominador, y realice la división entera entre los dos valores. Asegúrate de que el valor del denominador no sea igual a 0."
      ],
      "metadata": {
        "id": "7hu8sb_3ZU2O"
      }
    },
    {
      "cell_type": "code",
      "source": [
        "valor_uno = int(input('Ingresa el primer valor: ').strip())\n",
        "valor_dos = int(input('Ingresa el segundo valor: ').strip())\n",
        "while not valor_dos != 0:\n",
        "  valor_dos = int(input('Ingresa un valor distinto a cero: ').strip())\n",
        "print(f'El resultado de la división es {valor_uno // valor_dos}')"
      ],
      "metadata": {
        "colab": {
          "base_uri": "https://localhost:8080/"
        },
        "id": "J-2PIos3ZbP5",
        "outputId": "ad7015de-e125-46a3-f86f-52c023d61ce8"
      },
      "execution_count": null,
      "outputs": [
        {
          "output_type": "stream",
          "name": "stdout",
          "text": [
            "Ingresa el primer valor: 10\n",
            "Ingresa el segundo valor: 7\n",
            "El resultado de la división es 1\n"
          ]
        }
      ]
    },
    {
      "cell_type": "markdown",
      "source": [
        "11 - Crea un programa que solicite dos valores numéricos, un numerador y un denominador, y devuelva el resto de la división entre los dos valores. Asegúrate de que el valor del denominador no sea igual a 0."
      ],
      "metadata": {
        "id": "HUn6-ooeZiFW"
      }
    },
    {
      "cell_type": "code",
      "source": [
        "valor_uno = int(input('Ingresa el primer valor: ').strip())\n",
        "valor_dos = int(input('Ingresa el segundo valor: ').strip())\n",
        "while not valor_dos != 0:\n",
        "  valor_dos = int(input('Ingresa un valor distinto a cero: ').strip())\n",
        "print(f'El resultado residuo de la división es {valor_uno % valor_dos}')"
      ],
      "metadata": {
        "colab": {
          "base_uri": "https://localhost:8080/"
        },
        "id": "mVcZmIG5Z9pJ",
        "outputId": "85e777da-9b8e-44eb-bc50-5a2f05926ec2"
      },
      "execution_count": null,
      "outputs": [
        {
          "output_type": "stream",
          "name": "stdout",
          "text": [
            "Ingresa el primer valor: 10\n",
            "Ingresa el segundo valor: 5\n",
            "El resultado residuo de la división es 0\n"
          ]
        }
      ]
    },
    {
      "cell_type": "markdown",
      "source": [
        "12 - Crea un código que solicite las 3 notas de un estudiante e imprima el promedio de las notas."
      ],
      "metadata": {
        "id": "GzKpGnM6aL2q"
      }
    },
    {
      "cell_type": "code",
      "source": [
        "valor_uno = int(input('Ingresa la primer calificación: ').strip())\n",
        "valor_dos = int(input('Ingresa la segunda calificación: ').strip())\n",
        "valor_tres = int(input('Ingresa la tercer calificación: ').strip())\n",
        "print(f'El promedio es {(valor_uno + valor_dos + valor_tres) / 3}')"
      ],
      "metadata": {
        "colab": {
          "base_uri": "https://localhost:8080/"
        },
        "id": "5cQrBACIaOHQ",
        "outputId": "9cc3f5c2-60c1-4eb7-93b2-4ea6903bf314"
      },
      "execution_count": null,
      "outputs": [
        {
          "output_type": "stream",
          "name": "stdout",
          "text": [
            "Ingresa la primer calificación: 8\n",
            "Ingresa la segunda calificación: 6\n",
            "Ingresa la tercer calificación: 10\n",
            "El promedio es 8.0\n"
          ]
        }
      ]
    },
    {
      "cell_type": "markdown",
      "source": [
        "13 - Crea un código que calcule e imprima el promedio ponderado de los números 5, 12, 20 y 15 con pesos respectivamente iguales a 1, 2, 3 y 4."
      ],
      "metadata": {
        "id": "ZatuSOL_amqY"
      }
    },
    {
      "cell_type": "code",
      "source": [
        "numeros = [5,12,20,15]\n",
        "peso = [1,2,3,4]\n",
        "suma_ponderada = suma_pesos = 0\n",
        "\n",
        "for i in range(0,len(numeros)):\n",
        "  suma_ponderada += (numeros[i] * peso[i])\n",
        "  suma_pesos += peso[i]\n",
        "\n",
        "promedio_ponderado = suma_ponderada / suma_pesos\n",
        "print(f'El promedio ponderado es {promedio_ponderado}')"
      ],
      "metadata": {
        "colab": {
          "base_uri": "https://localhost:8080/"
        },
        "id": "2vq5eepBasif",
        "outputId": "b0b2c46b-a10e-410b-a122-e1370b41cf1f"
      },
      "execution_count": null,
      "outputs": [
        {
          "output_type": "stream",
          "name": "stdout",
          "text": [
            "El promedio ponderado es 14.9\n"
          ]
        }
      ]
    },
    {
      "cell_type": "markdown",
      "source": [
        "### Editando textos"
      ],
      "metadata": {
        "id": "wefREXEHhi2w"
      }
    },
    {
      "cell_type": "markdown",
      "source": [
        "14 - Crea una variable llamada \"frase\" y asígnale una cadena de texto de tu elección. Luego, imprime la frase en pantalla."
      ],
      "metadata": {
        "id": "xyEXeycAhuqB"
      }
    },
    {
      "cell_type": "code",
      "source": [
        "frase = 'Esta es una frase'\n",
        "print(frase)"
      ],
      "metadata": {
        "colab": {
          "base_uri": "https://localhost:8080/"
        },
        "id": "FgGd0sgphn4k",
        "outputId": "477576fb-9b80-4baa-f2eb-bddb195933ff"
      },
      "execution_count": null,
      "outputs": [
        {
          "output_type": "stream",
          "name": "stdout",
          "text": [
            "Esta es una frase\n"
          ]
        }
      ]
    },
    {
      "cell_type": "markdown",
      "source": [
        "15 - Crea un código que solicite una frase y luego imprima la frase en pantalla."
      ],
      "metadata": {
        "id": "dhmvl_vyiSha"
      }
    },
    {
      "cell_type": "code",
      "source": [
        "frase = input('Ingresa una frase: ').strip()\n",
        "print(f'La frase que escribiste fue: \"{frase}\"')"
      ],
      "metadata": {
        "colab": {
          "base_uri": "https://localhost:8080/"
        },
        "id": "WVFl3icYiUE_",
        "outputId": "a4af965e-ea01-42f3-9e2e-0a9137e9c199"
      },
      "execution_count": null,
      "outputs": [
        {
          "output_type": "stream",
          "name": "stdout",
          "text": [
            "Ingresa una frase: Una frase\n",
            "La frase que escribiste fue: \"Una frase\"\n"
          ]
        }
      ]
    },
    {
      "cell_type": "markdown",
      "source": [
        "16 - Crea un código que solicite una frase al usuario y luego imprima la misma frase ingresada pero en mayúsculas."
      ],
      "metadata": {
        "id": "c81-Rowwik1X"
      }
    },
    {
      "cell_type": "code",
      "source": [
        "frase = input('Ingresa una frase: ').strip()\n",
        "print(f'La frase que escribiste fue: \"{frase.upper()}\"')"
      ],
      "metadata": {
        "colab": {
          "base_uri": "https://localhost:8080/"
        },
        "id": "kDH0k_Xzimt-",
        "outputId": "bc66b4d6-01e6-4cd2-d9f7-d25b21663f8a"
      },
      "execution_count": null,
      "outputs": [
        {
          "output_type": "stream",
          "name": "stdout",
          "text": [
            "Ingresa una frase: una frase\n",
            "La frase que escribiste fue: \"UNA FRASE\"\n"
          ]
        }
      ]
    },
    {
      "cell_type": "markdown",
      "source": [
        "17 - Crea un código que solicite una frase al usuario y luego imprima la misma frase ingresada pero en minúsculas."
      ],
      "metadata": {
        "id": "cNu3UFR_ixxW"
      }
    },
    {
      "cell_type": "code",
      "source": [
        "frase = input('Ingresa una frase: ').strip()\n",
        "print(f'La frase que escribiste fue: \"{frase.lower()}\"')"
      ],
      "metadata": {
        "colab": {
          "base_uri": "https://localhost:8080/"
        },
        "id": "OIp0WpKdiyaL",
        "outputId": "5cce5f44-dd9f-46b3-e25c-c76ee1c6da59"
      },
      "execution_count": null,
      "outputs": [
        {
          "output_type": "stream",
          "name": "stdout",
          "text": [
            "Ingresa una frase: UNA FRASE\n",
            "La frase que escribiste fue: \"una frase\"\n"
          ]
        }
      ]
    },
    {
      "cell_type": "markdown",
      "source": [
        "18 - Crea una variable llamada \"frase\" y asígnale una cadena de texto de tu elección. Luego, imprime la frase sin espacios en blanco al principio y al final."
      ],
      "metadata": {
        "id": "owcOsAZDi3XV"
      }
    },
    {
      "cell_type": "code",
      "source": [
        "frase = '  Frase  '\n",
        "print(f'La frase que escribiste fue: \"{frase.strip()}\"')"
      ],
      "metadata": {
        "colab": {
          "base_uri": "https://localhost:8080/"
        },
        "id": "CtSbKxpdi4KH",
        "outputId": "17684e4e-7a31-4d58-a500-157ddf3f3a02"
      },
      "execution_count": null,
      "outputs": [
        {
          "output_type": "stream",
          "name": "stdout",
          "text": [
            "La frase que escribiste fue: \"Frase\"\n"
          ]
        }
      ]
    },
    {
      "cell_type": "markdown",
      "source": [
        "19 - Crea un código que solicite una frase al usuario y luego imprima la misma frase sin espacios en blanco al principio y al final."
      ],
      "metadata": {
        "id": "cQ0yaqgvi_7G"
      }
    },
    {
      "cell_type": "code",
      "source": [
        "frase = input('Ingresa una frase: ').strip()\n",
        "print(f'La frase que escribiste fue: \"{frase}\"')"
      ],
      "metadata": {
        "colab": {
          "base_uri": "https://localhost:8080/"
        },
        "id": "-etUzAY8jAqm",
        "outputId": "027a16c0-40dc-4952-a377-981495d735cf"
      },
      "execution_count": null,
      "outputs": [
        {
          "output_type": "stream",
          "name": "stdout",
          "text": [
            "Ingresa una frase: Frase\n",
            "La frase que escribiste fue: \"Frase\"\n"
          ]
        }
      ]
    },
    {
      "cell_type": "markdown",
      "source": [
        "20 - Crea un código que solicite una frase al usuario y luego imprima la misma frase sin espacios en blanco al principio y al final, además de convertirla a minúsculas."
      ],
      "metadata": {
        "id": "3N9EnqHZjRur"
      }
    },
    {
      "cell_type": "code",
      "source": [
        "frase = input('Ingresa una frase: ').strip()\n",
        "print(f'La frase que escribiste fue: \"{frase.lower()}\"')"
      ],
      "metadata": {
        "colab": {
          "base_uri": "https://localhost:8080/"
        },
        "id": "auHT03VqjShT",
        "outputId": "56a4ec43-0ce0-4802-c573-356585d5d2de"
      },
      "execution_count": null,
      "outputs": [
        {
          "output_type": "stream",
          "name": "stdout",
          "text": [
            "Ingresa una frase: FRASE       \n",
            "La frase que escribiste fue: \"frase\"\n"
          ]
        }
      ]
    },
    {
      "cell_type": "markdown",
      "source": [
        "21 - Crea un código que solicite una frase al usuario y luego imprima la misma frase con todas las vocales \"e\" reemplazadas por la letra \"f\"."
      ],
      "metadata": {
        "id": "TN4V5dwRjlDl"
      }
    },
    {
      "cell_type": "code",
      "source": [
        "frase = input('Ingresa una frase: ').strip()\n",
        "print(f'La frase que escribiste fue: \"{frase.replace('e','f').replace('E','F')}\"')"
      ],
      "metadata": {
        "colab": {
          "base_uri": "https://localhost:8080/"
        },
        "id": "YqMSO9rejl2u",
        "outputId": "a72a442e-387b-40e6-f365-49768ee7c6d7"
      },
      "execution_count": null,
      "outputs": [
        {
          "output_type": "stream",
          "name": "stdout",
          "text": [
            "Ingresa una frase: Esta es una frase con letra e\n",
            "La frase que escribiste fue: \"Fsta fs una frasf con lftra f\"\n"
          ]
        }
      ]
    },
    {
      "cell_type": "markdown",
      "source": [
        "22 - Crea un código que solicite una frase al usuario y luego imprima la misma frase con todas las vocales \"a\" reemplazadas por el carácter \"@\"."
      ],
      "metadata": {
        "id": "j4i94P09niRk"
      }
    },
    {
      "cell_type": "code",
      "source": [
        "frase = input('Ingresa una frase: ').strip()\n",
        "print(f'La frase que escribiste fue: \"{frase.replace('a','@').replace('A','@')}\"')"
      ],
      "metadata": {
        "colab": {
          "base_uri": "https://localhost:8080/"
        },
        "id": "C8aWx4rqnj60",
        "outputId": "ccfdc0cd-a446-4a4f-d718-07f91293e4d6"
      },
      "execution_count": null,
      "outputs": [
        {
          "output_type": "stream",
          "name": "stdout",
          "text": [
            "Ingresa una frase: Esta es una frase\n",
            "La frase que escribiste fue: \"Est@ es un@ fr@se\"\n"
          ]
        }
      ]
    },
    {
      "cell_type": "markdown",
      "source": [
        "23 - Crea un código que solicite una frase al usuario y luego imprima la misma frase con todas las consonantes \"s\" reemplazadas por el carácter \"$\"."
      ],
      "metadata": {
        "id": "XVD8BTwhoMKy"
      }
    },
    {
      "cell_type": "code",
      "source": [
        "frase = input('Ingresa una frase: ').strip()\n",
        "print(f'La frase que escribiste fue: \"{frase.replace('s','$').replace('S','$')}\"')"
      ],
      "metadata": {
        "colab": {
          "base_uri": "https://localhost:8080/"
        },
        "id": "oFFllDdKoT5Y",
        "outputId": "d9b010a0-f2cc-4099-eacb-892404f86d76"
      },
      "execution_count": null,
      "outputs": [
        {
          "output_type": "stream",
          "name": "stdout",
          "text": [
            "Ingresa una frase: Esta es una frase S\n",
            "La frase que escribiste fue: \"E$ta e$ una fra$e $\"\n"
          ]
        }
      ]
    },
    {
      "cell_type": "markdown",
      "source": [
        "## Desafio 3"
      ],
      "metadata": {
        "id": "ev-qlnOZ5mF0"
      }
    },
    {
      "cell_type": "markdown",
      "source": [
        "### Entrenando la programación"
      ],
      "metadata": {
        "id": "6_NC8wxs5oFm"
      }
    },
    {
      "cell_type": "markdown",
      "source": [
        "1 - Escribe un programa que pida a la persona usuaria que proporcione dos números y muestre el número más grande."
      ],
      "metadata": {
        "id": "NjrywGe7orpi"
      }
    },
    {
      "cell_type": "code",
      "source": [
        "valor_uno = int(input('Ingresa el primer número: ').strip())\n",
        "valor_dos = int(input('Ingresa el segundo número: ').strip())\n",
        "\n",
        "if valor_uno > valor_dos:\n",
        "  print('El primer valor es mayor.')\n",
        "elif valor_uno == valor_dos:\n",
        "  print('Ambos valores son iguales.')\n",
        "else:\n",
        "  print('El segundo valor es mayor.')"
      ],
      "metadata": {
        "id": "uV11Aw7754A6",
        "colab": {
          "base_uri": "https://localhost:8080/"
        },
        "outputId": "4d0c90a5-c4cb-46b5-fb1a-72c992c0db9a"
      },
      "execution_count": null,
      "outputs": [
        {
          "output_type": "stream",
          "name": "stdout",
          "text": [
            "Ingresa el primer número: 10\n",
            "Ingresa el segundo número: 10\n",
            "Ambos valores son iguales.\n"
          ]
        }
      ]
    },
    {
      "cell_type": "markdown",
      "source": [
        "2 - Escribe un programa que solicite el porcentaje de crecimiento de producción de una empresa e informe si hubo un crecimiento (porcentaje positivo) o una disminución (porcentaje negativo)."
      ],
      "metadata": {
        "id": "yZ2rOSywqhs_"
      }
    },
    {
      "cell_type": "code",
      "source": [
        "porcentaje_crecimiento = float(input('Ingresa el porcentaje de crecimiento de producción (%): ').strip())\n",
        "\n",
        "if porcentaje_crecimiento > 0:\n",
        "  print('El crecimiento fue positivo.')\n",
        "elif porcentaje_crecimiento < 0:\n",
        "  print('El crecimiento fue negativo.')\n",
        "else:\n",
        "  print('No hubo crecimiento.')"
      ],
      "metadata": {
        "colab": {
          "base_uri": "https://localhost:8080/"
        },
        "id": "sxRGiMAiqjRu",
        "outputId": "d3cca92d-45fb-4460-d8d7-ad85dd83250a"
      },
      "execution_count": null,
      "outputs": [
        {
          "output_type": "stream",
          "name": "stdout",
          "text": [
            "Ingresa el porcentaje de crecimiento de producción (%): 0\n",
            "No hubo crecimiento.\n"
          ]
        }
      ]
    },
    {
      "cell_type": "markdown",
      "source": [
        "3 - Escribe un programa que determine si una letra proporcionada por la persona usuaria es una vocal o una consonante."
      ],
      "metadata": {
        "id": "lkMs447KsOQr"
      }
    },
    {
      "cell_type": "code",
      "source": [
        "vocales = ['a','e','i','o','u','A','E','I','O','U']\n",
        "letra_usuario = input('Ingresa una letra cualquiera: ').strip()\n",
        "\n",
        "if letra_usuario in vocales:\n",
        "  print('La letra es una vocal.')\n",
        "else:\n",
        "  print('La letra es una consonante.')"
      ],
      "metadata": {
        "colab": {
          "base_uri": "https://localhost:8080/"
        },
        "id": "19wii-qVsQ-C",
        "outputId": "4748c88b-ddc2-423f-8121-cc3a6606e501"
      },
      "execution_count": null,
      "outputs": [
        {
          "output_type": "stream",
          "name": "stdout",
          "text": [
            "Ingresa una letra cualquiera: e\n",
            "La letra es una vocal.\n"
          ]
        }
      ]
    },
    {
      "cell_type": "markdown",
      "source": [
        "4 - Escribe un programa que lea valores promedio de precios de un modelo de automóvil durante 3 años consecutivos y muestre el valor más alto y más bajo entre esos tres años."
      ],
      "metadata": {
        "id": "SUbtYibktRn0"
      }
    },
    {
      "cell_type": "code",
      "source": [
        "lista_promedios = []\n",
        "mayor = 0\n",
        "indice = 0\n",
        "\n",
        "for i in range(0,3):\n",
        "  lista_promedios.append(int(input(f'Ingresa el promedio del año número {i + 1}: ')))\n",
        "\n",
        "mayor = max(lista_promedios)\n",
        "indice = lista_promedios.index(mayor)\n",
        "print(f'El promedio más alto fue {mayor} en el año {indice + 1}')"
      ],
      "metadata": {
        "colab": {
          "base_uri": "https://localhost:8080/"
        },
        "id": "gu1GdCZLtTI1",
        "outputId": "625a908f-cf41-42ef-e20d-b38d7280cba3"
      },
      "execution_count": null,
      "outputs": [
        {
          "output_type": "stream",
          "name": "stdout",
          "text": [
            "Ingresa el promedio del año número 1: 1\n",
            "Ingresa el promedio del año número 2: 10\n",
            "Ingresa el promedio del año número 3: 2\n",
            "[1, 10, 2]\n",
            "El promedio más alto fue 10 en el año 2\n"
          ]
        }
      ]
    },
    {
      "cell_type": "markdown",
      "source": [
        "5 - Escribe un programa que pregunte sobre el precio de tres productos e indique cuál es el producto más barato para comprar."
      ],
      "metadata": {
        "id": "Ifv4CDSMwsfh"
      }
    },
    {
      "cell_type": "code",
      "source": [
        "lista_precios = []\n",
        "menor_precio = 0\n",
        "indice = 0\n",
        "\n",
        "for i in range(0,3):\n",
        "  lista_precios.append(int(input(f'Ingresa el precio del producto {i + 1}: ')))\n",
        "\n",
        "menor_precio = min(lista_precios)\n",
        "indice = lista_precios.index(menor_precio)\n",
        "print(f'El precio más bajo fue de ${menor_precio} {'peso' if menor_precio == 1 else 'pesos'} del producto número {indice + 1}')"
      ],
      "metadata": {
        "colab": {
          "base_uri": "https://localhost:8080/"
        },
        "id": "REAP0JI5wt60",
        "outputId": "8e7afe63-f038-4c4b-90e0-45134abf0382"
      },
      "execution_count": null,
      "outputs": [
        {
          "output_type": "stream",
          "name": "stdout",
          "text": [
            "Ingresa el precio del producto 1: 1000\n",
            "Ingresa el precio del producto 2: 200\n",
            "Ingresa el precio del producto 3: 100\n",
            "El precio más bajo fue de $100 pesos del producto número 3\n"
          ]
        }
      ]
    },
    {
      "cell_type": "markdown",
      "source": [
        "6 - Escribe un programa que lea tres números y los muestre en orden descendente."
      ],
      "metadata": {
        "id": "Ui9-Ai75xleK"
      }
    },
    {
      "cell_type": "code",
      "source": [
        "lista_numeros = []\n",
        "\n",
        "for i in range(0,3):\n",
        "  lista_numeros.append(int(input(f'Ingresa el número {i + 1}: ')))\n",
        "\n",
        "lista_numeros.sort(reverse=True)\n",
        "print(f'La lista ordenada de forma descendente es: {lista_numeros}')"
      ],
      "metadata": {
        "colab": {
          "base_uri": "https://localhost:8080/"
        },
        "id": "0I2Clw8Wxw3u",
        "outputId": "82f7be90-83d0-4f3a-86eb-e38f92e64a67"
      },
      "execution_count": null,
      "outputs": [
        {
          "output_type": "stream",
          "name": "stdout",
          "text": [
            "Ingresa el número 1: 10\n",
            "Ingresa el número 2: 100\n",
            "Ingresa el número 3: 75\n",
            "La lista ordenada de forma descendente es: [100, 75, 10]\n"
          ]
        }
      ]
    },
    {
      "cell_type": "markdown",
      "source": [
        "7 -Escribe un programa que pregunte en qué turno estudia la persona usuaria (\"mañana\", \"tarde\" o \"noche\") y muestre el mensaje \"¡Buenos Días!\", \"¡Buenas Tardes!\", \"¡Buenas Noches!\" o \"Valor Inválido!\", según el caso."
      ],
      "metadata": {
        "id": "5cP74XNYz2as"
      }
    },
    {
      "cell_type": "code",
      "source": [
        "condicional_salida = False\n",
        "\n",
        "while not condicional_salida:\n",
        "  turno = input('Ingresa el turno en el que estudias (mañana, tarde o noche): ').strip()\n",
        "\n",
        "  if turno == 'mañana':\n",
        "    print('\\n¡Buenos Días!')\n",
        "    condicional_salida = True\n",
        "  elif turno == 'tarde':\n",
        "    print('\\n¡Buenas Tardes!')\n",
        "    condicional_salida = True\n",
        "  elif turno == 'noche':\n",
        "    print('\\n¡Buenas Noches!')\n",
        "    condicional_salida = True\n",
        "  else:\n",
        "    print('\\n¡Valor Inválido!')"
      ],
      "metadata": {
        "colab": {
          "base_uri": "https://localhost:8080/"
        },
        "id": "ZtG8Fj3Rz3_i",
        "outputId": "3e3328e8-8c04-4dd4-c24a-79ae9cf5f334"
      },
      "execution_count": null,
      "outputs": [
        {
          "output_type": "stream",
          "name": "stdout",
          "text": [
            "Ingresa el turno en el que estudias (mañana, tarde o noche): asdfafsdf\n",
            "\n",
            "¡Valor Inválido!\n",
            "Ingresa el turno en el que estudias (mañana, tarde o noche): asdasdff\n",
            "\n",
            "¡Valor Inválido!\n",
            "Ingresa el turno en el que estudias (mañana, tarde o noche): tarde\n",
            "\n",
            "¡Buenas Tardes!\n"
          ]
        }
      ]
    },
    {
      "cell_type": "markdown",
      "source": [
        "8 - Escribe un programa que solicite un número entero a la persona usuaria y determine si es par o impar. Pista: Puedes usar el operador módulo (%)."
      ],
      "metadata": {
        "id": "27IEJs-M1fhi"
      }
    },
    {
      "cell_type": "code",
      "source": [
        "numero_usuario = int(input('Ingresa un número entero: ').strip())\n",
        "\n",
        "if numero_usuario % 2 == 0:\n",
        "  print('El número es par.')\n",
        "else:\n",
        "  print('El número es impar.')"
      ],
      "metadata": {
        "colab": {
          "base_uri": "https://localhost:8080/"
        },
        "id": "xqUZtmv81hwR",
        "outputId": "f46e0ff9-2df2-4395-fdd3-5dfdbb41484c"
      },
      "execution_count": null,
      "outputs": [
        {
          "output_type": "stream",
          "name": "stdout",
          "text": [
            "Ingresa un número entero: 3\n",
            "El número es impar.\n"
          ]
        }
      ]
    },
    {
      "cell_type": "markdown",
      "source": [
        "9 - Escribe un programa que pida un número a la persona usuaria y le informe si es entero o decimal."
      ],
      "metadata": {
        "id": "hHgRqfxF2fSR"
      }
    },
    {
      "cell_type": "code",
      "source": [
        "numero_usuario = float(input('Ingresa un número, puede ser entero o decimal: ').strip())\n",
        "\n",
        "if numero_usuario > numero_usuario // 1:\n",
        "  print('El número es decimal.')\n",
        "else:\n",
        "  print('El número es entero.')"
      ],
      "metadata": {
        "colab": {
          "base_uri": "https://localhost:8080/"
        },
        "id": "Qi2hOJV32gvk",
        "outputId": "aaf878e3-ac8f-414c-c616-e3edf59f816f"
      },
      "execution_count": null,
      "outputs": [
        {
          "output_type": "stream",
          "name": "stdout",
          "text": [
            "Ingresa un número, puede ser entero o decimal: 20.888\n",
            "20.0\n",
            "El número es decimal.\n"
          ]
        }
      ]
    },
    {
      "cell_type": "markdown",
      "source": [
        "### Momento de los proyectos"
      ],
      "metadata": {
        "id": "-_xc2QsN3V5E"
      }
    },
    {
      "cell_type": "markdown",
      "source": [
        "10 - Un programa debe ser escrito para leer dos números y luego preguntar a la persona usuaria qué operación desea realizar. El resultado de la operación debe incluir información sobre el número, si es par o impar, positivo o negativo, e entero o decimal."
      ],
      "metadata": {
        "id": "YN91IsTT3fP1"
      }
    },
    {
      "cell_type": "code",
      "source": [
        "# Parámetros\n",
        "# Es par o impar\n",
        "# Es positivo o negativo\n",
        "# Es entero o decimal\n",
        "\n",
        "# variables\n",
        "opcion_salida = False\n",
        "opciones_validas = [1,2,3,4,5]\n",
        "\n",
        "while not opcion_salida:\n",
        "  print('''\\n*** Menú***\n",
        "  1. Suma\n",
        "  2. Resta\n",
        "  3. Multiplicación\n",
        "  4. División\n",
        "  5. Potencia\n",
        "  6. Salir''')\n",
        "\n",
        "  opcion = int(input('Selecciona la operación que deseas realizar: ').strip())\n",
        "\n",
        "  if opcion == 6:\n",
        "    opcion_salida = True\n",
        "  else:\n",
        "    if opcion in opciones_validas:\n",
        "      # Solicitamos los valores\n",
        "      valor_uno = float(input('\\nIngresa el primer valor, puede ser entero o decimal: ').strip())\n",
        "      valor_dos = float(input('Ingresa el segundo valor, puede ser entero o decimal: ').strip())\n",
        "      resultado = 0\n",
        "\n",
        "      if opcion == 1:\n",
        "        resultado = valor_uno + valor_dos\n",
        "\n",
        "      elif opcion == 2:\n",
        "        resultado = valor_uno - valor_dos\n",
        "\n",
        "      elif opcion == 3:\n",
        "        resultado = valor_uno * valor_dos\n",
        "\n",
        "      elif opcion == 4:\n",
        "        resultado = valor_uno / valor_dos\n",
        "\n",
        "      elif opcion == 5:\n",
        "        resultado = valor_uno ** valor_dos\n",
        "\n",
        "      # Validaciones booleanas para condicionales\n",
        "      es_par = resultado % 2 == 0 if resultado.is_integer() else False\n",
        "      es_positivo = True if resultado >= 0 else False\n",
        "      es_entero = resultado.is_integer()\n",
        "\n",
        "      print(f'''\\nEl resultado de tu suma es {resultado}.\n",
        "      Tu número es {'par' if es_par else 'impar'}, {'positivo' if es_positivo else 'negativo'} y es un {'entero' if es_entero else 'decimal'}''')\n",
        "\n",
        "    else:\n",
        "      print('\\nSelecciona una opción válida\\n')\n"
      ],
      "metadata": {
        "colab": {
          "base_uri": "https://localhost:8080/"
        },
        "id": "89tCOdLA3PLa",
        "outputId": "96c2aea0-4f26-42cd-adda-5544a40d2aef"
      },
      "execution_count": null,
      "outputs": [
        {
          "name": "stdout",
          "output_type": "stream",
          "text": [
            "\n",
            "*** Menú***\n",
            "  1. Suma\n",
            "  2. Resta\n",
            "  3. Multiplicación\n",
            "  4. División\n",
            "  5. Potencia\n",
            "  6. Salir\n",
            "Selecciona la operación que deseas realizar: 6\n"
          ]
        }
      ]
    },
    {
      "cell_type": "markdown",
      "source": [
        "11 - Escribe un programa que pida a la persona usuaria tres números que representan los lados de un triángulo. El programa debe informar si los valores pueden utilizarse para formar un triángulo y, en caso afirmativo, si es equilátero, isósceles o escaleno. Ten en cuenta algunas sugerencias:\n",
        "\n",
        "* Tres lados forman un triángulo cuando la suma de cualesquiera dos lados\n",
        "* es mayor que el tercero;\n",
        "* Triángulo Equilátero: tres lados iguales;\n",
        "* Triángulo Isósceles: dos lados iguales;\n",
        "* Triángulo Escaleno: tres lados diferentes."
      ],
      "metadata": {
        "id": "wZPiGm6ZJ61f"
      }
    },
    {
      "cell_type": "code",
      "source": [
        "lados = []\n",
        "es_triangulo = False\n",
        "\n",
        "for i in range(0,3):\n",
        "    lados.append(float(input(f'Ingresa el valor del lado número {i + 1}: ')))\n",
        "\n",
        "if (lados[0] + lados[1]) > lados[2] and (lados[0] + lados[2]) > lados[1] and (lados[1] + lados[2]) > lados[0]:\n",
        "    es_triangulo = True\n",
        "\n",
        "if es_triangulo:\n",
        "    repetidos = set(lados)\n",
        "\n",
        "    if len(repetidos) == 1:\n",
        "        print('Se puede crear un triángulo equilatero.')\n",
        "    elif len(repetidos) == 2:\n",
        "        print('Se puede crear un triángulo isósceles.')\n",
        "    elif len(repetidos) == 3:\n",
        "        print('Se puede crear un triángulo escaleno.')\n",
        "else:\n",
        "    print('Los valores ingresados no forman un triángulo.')"
      ],
      "metadata": {
        "colab": {
          "base_uri": "https://localhost:8080/"
        },
        "id": "LqhtMZLJKJkB",
        "outputId": "ce8afd5d-f48e-4090-ce1e-0ad788f727c5"
      },
      "execution_count": null,
      "outputs": [
        {
          "output_type": "stream",
          "name": "stdout",
          "text": [
            "Ingresa el valor del lado número 1: 10\n",
            "Ingresa el valor del lado número 2: 10\n",
            "Ingresa el valor del lado número 3: 5\n",
            "Se puede crear un triángulo isósceles.\n"
          ]
        }
      ]
    },
    {
      "cell_type": "markdown",
      "source": [
        "12 - Un establecimiento está vendiendo combustibles con descuentos variables. Para el etanol, si la cantidad comprada es de hasta 15 litros, el descuento será del 2% por litro. En caso contrario, será del 4% por litro. Para el diésel, si la cantidad comprada es de hasta 15 litros, el descuento será del 3% por litro. En caso contrario, será del 5% por litro. El precio por litro de diésel es de R 2,00 y el precio por litro de etanol es de R 1,70. Escribe un programa que lea la cantidad de litros vendidos y el tipo de combustible (E para etanol y D para diésel) y calcule el valor a pagar por el cliente. Ten en cuenta algunas sugerencias:\n",
        "* El valor del descuento será el producto del precio por litro, la cantidad de litros y el valor del descuento.\n",
        "* El valor a pagar por un cliente será el resultado de la multiplicación del precio por litro por la cantidad de litros menos el valor del descuento resultante del cálculo."
      ],
      "metadata": {
        "id": "kVoXb3w81zeD"
      }
    },
    {
      "cell_type": "code",
      "source": [
        "# Constantes\n",
        "DESCUENTO_E = 0.02\n",
        "DESCUENTO_MAYOREO_E = 0.04\n",
        "DESCUENTO_D = 0.03\n",
        "DESCUENTO_MAYOREO_D = 0.05\n",
        "# Precios\n",
        "PRECIO_E = 1.70\n",
        "PRECIO_D = 2.00\n",
        "\n",
        "# Variables\n",
        "es_salida = False\n",
        "opciones_validas = [1, 2, 3]\n",
        "\n",
        "while not es_salida:\n",
        "    litros_e = litros_d = 0\n",
        "    subtotal = subtotal_descuento = total = 0\n",
        "\n",
        "    print('''¡Bienvenido!\n",
        "    1. Etanol\n",
        "    2. Diesel\n",
        "    3. Ambos\n",
        "    4. Salir''')\n",
        "\n",
        "    opcion_usuario = int(input('Ingresa qué tipo de combustible necesitas: ').strip())\n",
        "\n",
        "    if opcion_usuario == 4:\n",
        "        es_salida = True\n",
        "        continue\n",
        "\n",
        "    if opcion_usuario in opciones_validas:\n",
        "        compra_valida = False\n",
        "\n",
        "        if opcion_usuario == 1 or opcion_usuario == 3:\n",
        "            litros_e = float(input('¿Cuántos litros de etanol consumiste? ').strip())\n",
        "            if litros_e > 0:\n",
        "                if litros_e <= 15:\n",
        "                    subtotal_descuento += (litros_e * PRECIO_E) * DESCUENTO_E\n",
        "                else:\n",
        "                    subtotal_descuento += (litros_e * PRECIO_E) * DESCUENTO_MAYOREO_E\n",
        "                subtotal += litros_e * PRECIO_E\n",
        "                compra_valida = True\n",
        "            else:\n",
        "                print('Número de litros inválidos para etanol.')\n",
        "\n",
        "        if opcion_usuario == 2 or opcion_usuario == 3:\n",
        "            litros_d = float(input('¿Cuántos litros de diesel consumiste? ').strip())\n",
        "            if litros_d > 0:\n",
        "                if litros_d <= 15:\n",
        "                    subtotal_descuento += (litros_d * PRECIO_D) * DESCUENTO_D\n",
        "                else:\n",
        "                    subtotal_descuento += (litros_d * PRECIO_D) * DESCUENTO_MAYOREO_D\n",
        "                subtotal += litros_d * PRECIO_D\n",
        "                compra_valida = True\n",
        "            else:\n",
        "                print('Número de litros inválidos para diesel.')\n",
        "\n",
        "        if compra_valida:\n",
        "            total = subtotal - subtotal_descuento\n",
        "            print(f'''\\nDescuento: {subtotal_descuento:.2f}\n",
        "Subtotal: {subtotal:.2f}\n",
        "Total: {total:.2f}\\n''')\n",
        "    else:\n",
        "        print('Opción inválida.\\n')"
      ],
      "metadata": {
        "id": "4wYszGg_18Hb",
        "colab": {
          "base_uri": "https://localhost:8080/"
        },
        "outputId": "b9df777c-5663-426d-c09c-d9d904da0484"
      },
      "execution_count": null,
      "outputs": [
        {
          "name": "stdout",
          "output_type": "stream",
          "text": [
            "¡Bienvenido!\n",
            "    1. Etanol\n",
            "    2. Diesel\n",
            "    3. Ambos\n",
            "    4. Salir\n",
            "Ingresa qué tipo de combustible necesitas: 2\n",
            "¿Cuántos litros de diesel consumiste? 17\n",
            "\n",
            "Descuento: 1.70\n",
            "Subtotal: 34.00\n",
            "Total: 32.30\n",
            "\n",
            "¡Bienvenido!\n",
            "    1. Etanol\n",
            "    2. Diesel\n",
            "    3. Ambos\n",
            "    4. Salir\n",
            "Ingresa qué tipo de combustible necesitas: 4\n"
          ]
        }
      ]
    },
    {
      "cell_type": "markdown",
      "source": [
        "13 - En una empresa de venta de bienes raíces, debes crear un código que analice los datos de ventas anuales para ayudar a la dirección en la toma de decisiones. El código debe recopilar los datos de cantidad de ventas durante los años 2022 y 2023 y calcular la variación porcentual. A partir del valor de la variación, se deben proporcionar las siguientes sugerencias:\n",
        "\n",
        "1. Para una variación superior al 20%: bonificación para el equipo de ventas.\n",
        "2. Para una variación entre el 2% y el 20%: pequeña bonificación para el equipo de ventas.\n",
        "3. Para una variación entre el 2% y el -10%: planificación de políticas de incentivo a las ventas.\n",
        "4. Para bonificaciones inferiores al -10%: recorte de gastos."
      ],
      "metadata": {
        "id": "C1KfdrukEsH4"
      }
    },
    {
      "cell_type": "code",
      "source": [
        "ventas_anio_uno = float(input('Ingresa la cantidad de ventas del primer año: '))\n",
        "ventas_anio_dos = float(input('Ingresa la cantidad de ventas del segundo año: '))\n",
        "\n",
        "variacion_porcentual = ((ventas_anio_dos - ventas_anio_uno) / ventas_anio_uno) * 100\n",
        "\n",
        "print('')\n",
        "if variacion_porcentual > 20:\n",
        "    print('Bonificación para el equipo de ventas')\n",
        "elif 2 <= variacion_porcentual < 20:\n",
        "    print('Pequeña bonificación para el equipo de ventas')\n",
        "elif -10 <= variacion_porcentual < 2:\n",
        "    print('Planificación de políticas de incentivo a las ventas')\n",
        "else:\n",
        "    print('Recorte de gastos')"
      ],
      "metadata": {
        "colab": {
          "base_uri": "https://localhost:8080/"
        },
        "id": "nTZ7dhZvEy70",
        "outputId": "6002c838-858e-408a-8b21-822635291ca4"
      },
      "execution_count": null,
      "outputs": [
        {
          "output_type": "stream",
          "name": "stdout",
          "text": [
            "Ingresa la cantidad de ventas del primer año: 1500\n",
            "Ingresa la cantidad de ventas del segundo año: 2000\n",
            "\n",
            "Bonificación para el equipo de ventas\n"
          ]
        }
      ]
    },
    {
      "cell_type": "markdown",
      "source": [
        "## Desafio 4"
      ],
      "metadata": {
        "id": "G6Jbjpm2TH08"
      }
    },
    {
      "cell_type": "markdown",
      "source": [
        "### Entrenando la programación"
      ],
      "metadata": {
        "id": "aaUd_6qWTUHS"
      }
    },
    {
      "cell_type": "markdown",
      "source": [
        "1 - Escribe un programa que solicite dos números enteros e imprima todos los números enteros entre ellos."
      ],
      "metadata": {
        "id": "84KyEXJjTWhB"
      }
    },
    {
      "cell_type": "code",
      "source": [
        "lista_numeros = []\n",
        "\n",
        "for i in range(0,2):\n",
        "  lista_numeros.append(int(input(f'Ingresa el valor numero {i+1}: ')))\n",
        "\n",
        "for i in lista_numeros:\n",
        "  print(i, end=' ')"
      ],
      "metadata": {
        "colab": {
          "base_uri": "https://localhost:8080/"
        },
        "id": "Ocmzgvi8TX-i",
        "outputId": "060f9ed9-75e1-476e-9442-f9002815d4a2"
      },
      "execution_count": null,
      "outputs": [
        {
          "output_type": "stream",
          "name": "stdout",
          "text": [
            "Ingresa el valor numero 1: 10\n",
            "Ingresa el valor numero 2: 22\n",
            "10 22 "
          ]
        }
      ]
    },
    {
      "cell_type": "markdown",
      "source": [
        "2 - Escribe un programa para calcular cuántos días tomará que la colonia de una bacteria A supere o iguale a la colonia de una bacteria B, basado en tasas de crecimiento del 3% y 1.5%, respectivamente. Supón que la colonia A comienza con 4 elementos y B con 10."
      ],
      "metadata": {
        "id": "SWBFIMQUUAYY"
      }
    },
    {
      "cell_type": "code",
      "source": [
        "colonia_a = 4\n",
        "colonia_b = 10\n",
        "dias = 0\n",
        "\n",
        "while colonia_a <= colonia_b:\n",
        "  dias +=1\n",
        "  colonia_a *= 1.03\n",
        "  colonia_b *= 1.015\n",
        "\n",
        "print(f'''La colonia A superará o igualara a la B en {dias} {'día' if dias == 1 else 'días'}. Los valores serán:\n",
        "Colonia A = {colonia_a:.2f}\n",
        "Colonia B = {colonia_b:.2f}''')"
      ],
      "metadata": {
        "colab": {
          "base_uri": "https://localhost:8080/"
        },
        "id": "Hp3tipAIUDEm",
        "outputId": "6fdae101-95c7-48c3-fa4d-069158e7ae92"
      },
      "execution_count": null,
      "outputs": [
        {
          "output_type": "stream",
          "name": "stdout",
          "text": [
            "La colonia A superará o igualara a la B en 63 días. Los valores serán:\n",
            "Colonia A = 25.75\n",
            "Colonia B = 25.55\n"
          ]
        }
      ]
    },
    {
      "cell_type": "markdown",
      "source": [
        "3 - Para procesar una cantidad de 15 datos de evaluaciones de usuarios de un servicio de la empresa, necesitamos verificar si las calificaciones son válidas. Por lo tanto, escribe un programa que recibirá calificaciones del 0 al 5 y verificará si son valores válidos. Si se ingresa una calificación superior a 5 o inferior a 0, se repetirá hasta que el usuario ingrese un valor válido."
      ],
      "metadata": {
        "id": "BvNsiaI6WgAK"
      }
    },
    {
      "cell_type": "code",
      "source": [
        "lista_calificaciones = '\\nEstas son las calificaciones ingresadas:'\n",
        "for i in range(0,15):\n",
        "  calificacion = int(input(f'Calificacion para el usuario {i+1} (del 0 al 5): '))\n",
        "\n",
        "  while calificacion not in range(0, 6):\n",
        "    print('La calificación ingresada es inválida.')\n",
        "    calificacion = int(input(f'Calificacion para el usuario {i+1} (del 0 al 5): '))\n",
        "\n",
        "  lista_calificaciones += f'\\nUsuario {i+1}: {calificacion}'\n",
        "\n",
        "print(lista_calificaciones)"
      ],
      "metadata": {
        "colab": {
          "base_uri": "https://localhost:8080/"
        },
        "id": "dkCIougdXDOc",
        "outputId": "b238e9d9-f1e8-43b6-8fb5-465f340402d0"
      },
      "execution_count": null,
      "outputs": [
        {
          "output_type": "stream",
          "name": "stdout",
          "text": [
            "Calificacion para el usuario 1 (del 0 al 5): 0\n",
            "Calificacion para el usuario 2 (del 0 al 5): 55\n",
            "La calificación ingresada es inválida.\n",
            "Calificacion para el usuario 2 (del 0 al 5): 3\n",
            "Calificacion para el usuario 3 (del 0 al 5): 2\n",
            "Calificacion para el usuario 4 (del 0 al 5): 4\n",
            "Calificacion para el usuario 5 (del 0 al 5): 15\n",
            "La calificación ingresada es inválida.\n",
            "Calificacion para el usuario 5 (del 0 al 5): 3\n",
            "Calificacion para el usuario 6 (del 0 al 5): 2\n",
            "Calificacion para el usuario 7 (del 0 al 5): 8\n",
            "La calificación ingresada es inválida.\n",
            "Calificacion para el usuario 7 (del 0 al 5): 4\n",
            "Calificacion para el usuario 8 (del 0 al 5): 2\n",
            "Calificacion para el usuario 9 (del 0 al 5): 3\n",
            "Calificacion para el usuario 10 (del 0 al 5): 4\n",
            "Calificacion para el usuario 11 (del 0 al 5): 1\n",
            "Calificacion para el usuario 12 (del 0 al 5): 10000000000000\n",
            "La calificación ingresada es inválida.\n",
            "Calificacion para el usuario 12 (del 0 al 5): 2\n",
            "Calificacion para el usuario 13 (del 0 al 5): 3\n",
            "Calificacion para el usuario 14 (del 0 al 5): 4\n",
            "Calificacion para el usuario 15 (del 0 al 5): 5\n",
            "\n",
            "Estas son las calificaciones ingresadas:\n",
            "Usuario 1: 0\n",
            "Usuario 2: 3\n",
            "Usuario 3: 2\n",
            "Usuario 4: 4\n",
            "Usuario 5: 3\n",
            "Usuario 6: 2\n",
            "Usuario 7: 4\n",
            "Usuario 8: 2\n",
            "Usuario 9: 3\n",
            "Usuario 10: 4\n",
            "Usuario 11: 1\n",
            "Usuario 12: 2\n",
            "Usuario 13: 3\n",
            "Usuario 14: 4\n",
            "Usuario 15: 5\n"
          ]
        }
      ]
    },
    {
      "cell_type": "markdown",
      "source": [
        "4 - Desarrolla un programa que lea un conjunto indefinido de temperaturas en grados Celsius y calcule su promedio. La lectura debe detenerse al ingresar el valor -273°C."
      ],
      "metadata": {
        "id": "b_NOw-HicKQt"
      }
    },
    {
      "cell_type": "code",
      "source": [
        "es_salida = False\n",
        "temperaturas = []\n",
        "\n",
        "while not es_salida:\n",
        "  temperatura_usuario = float(input('Ingresa la temperatura (°C): '))\n",
        "\n",
        "  if temperatura_usuario == -273:\n",
        "    es_salida = True\n",
        "  else:\n",
        "    temperaturas.append(temperatura_usuario)\n",
        "\n",
        "print(f'El promedio de las temperaturas ingresadas es: {(sum(temperaturas) / len(temperaturas)):.2f}')"
      ],
      "metadata": {
        "colab": {
          "base_uri": "https://localhost:8080/"
        },
        "id": "Z80rmRdScMPK",
        "outputId": "8c7e63f5-05e4-4315-a4a8-5d7e7a33adad"
      },
      "execution_count": null,
      "outputs": [
        {
          "output_type": "stream",
          "name": "stdout",
          "text": [
            "Ingresa la temperatura (°C): 203\n",
            "Ingresa la temperatura (°C): 50\n",
            "Ingresa la temperatura (°C): 80\n",
            "Ingresa la temperatura (°C): 20\n",
            "Ingresa la temperatura (°C): 1\n",
            "Ingresa la temperatura (°C): 2\n",
            "Ingresa la temperatura (°C): 60\n",
            "Ingresa la temperatura (°C): -273\n",
            "El promedio de las temperaturas ingresadas es: 59.43\n"
          ]
        }
      ]
    },
    {
      "cell_type": "markdown",
      "source": [
        "5 - Escribe un programa que calcule el factorial de un número entero proporcionado por el usuario. Recuerda que el factorial de un número entero es el producto de ese número por todos sus antecesores hasta llegar al número 1. Por ejemplo, el factorial de 5 es 5 x 4 x 3 x 2 x 1 = 120."
      ],
      "metadata": {
        "id": "QeeXhZf9foTW"
      }
    },
    {
      "cell_type": "code",
      "source": [
        "numero_usuario = int(input('Ingresa un número para calcular el factorial: ').strip())\n",
        "resultado = numero_usuario\n",
        "\n",
        "for i in range(1,numero_usuario):\n",
        "  resultado *= i\n",
        "\n",
        "print(f'El resultado es: {resultado}.')"
      ],
      "metadata": {
        "colab": {
          "base_uri": "https://localhost:8080/"
        },
        "id": "rdc3Ioi9fryV",
        "outputId": "da3fa13d-2b4e-4663-a171-2cc0ceb7b010"
      },
      "execution_count": null,
      "outputs": [
        {
          "output_type": "stream",
          "name": "stdout",
          "text": [
            "Ingresa un número para calcular el factorial: 10\n",
            "El resultado es: 3628800.\n"
          ]
        }
      ]
    },
    {
      "cell_type": "markdown",
      "source": [
        "6 - Escribe un programa que genere la tabla de multiplicar de un número entero del 1 al 10, según la elección del usuario. Como ejemplo, para el número 2, la tabla de multiplicar debe mostrarse en el siguiente formato:  \n",
        "Tabla de multiplicar del 2:  \n",
        "2 x 1 = 2  \n",
        "2 x 2 = 4  \n",
        "[...]  \n",
        "2 x 10 = 20  "
      ],
      "metadata": {
        "id": "2Jecd6ArFVtt"
      }
    },
    {
      "cell_type": "code",
      "source": [
        "numero_usuario = int(input('Ingresa un número para ver su tabla de multiplicar: '))\n",
        "\n",
        "for i in range(0,10):\n",
        "  print(f'{numero_usuario} x {i + 1} = {numero_usuario * (i + 1)}')"
      ],
      "metadata": {
        "colab": {
          "base_uri": "https://localhost:8080/"
        },
        "id": "_-JplTuKFXkt",
        "outputId": "881d9e12-e367-4a75-fca2-9a59d91bff62"
      },
      "execution_count": null,
      "outputs": [
        {
          "output_type": "stream",
          "name": "stdout",
          "text": [
            "Ingresa un número para ver su tabla de multiplicar: 2\n",
            "2 x 1 = 2\n",
            "2 x 2 = 4\n",
            "2 x 3 = 6\n",
            "2 x 4 = 8\n",
            "2 x 5 = 10\n",
            "2 x 6 = 12\n",
            "2 x 7 = 14\n",
            "2 x 8 = 16\n",
            "2 x 9 = 18\n",
            "2 x 10 = 20\n"
          ]
        }
      ]
    },
    {
      "cell_type": "markdown",
      "source": [
        "7 - Los números primos tienen diversas aplicaciones en Ciencia de Datos, como en criptografía y seguridad. Un número primo es aquel que es divisible solo por sí mismo y por 1. Por lo tanto, crea un programa que solicite un número entero y determine si es un número primo o no."
      ],
      "metadata": {
        "id": "X6B9umjpIW8j"
      }
    },
    {
      "cell_type": "code",
      "source": [
        "numero_usuario = int(input('Ingresa un numero entero: '))\n",
        "cantidad_ceros = 0\n",
        "\n",
        "for i in range(1, numero_usuario + 1):\n",
        "  if numero_usuario % i == 0:\n",
        "    cantidad_ceros += 1\n",
        "\n",
        "if cantidad_ceros == 2:\n",
        "  print('El número es primo.')\n",
        "else:\n",
        "  print('El número no es primo.')"
      ],
      "metadata": {
        "colab": {
          "base_uri": "https://localhost:8080/"
        },
        "id": "uGl6jCUdIYug",
        "outputId": "ac4f9079-3290-44f7-e6d1-f8a3e96cbe2e"
      },
      "execution_count": null,
      "outputs": [
        {
          "output_type": "stream",
          "name": "stdout",
          "text": [
            "Ingresa un numero entero: 2\n",
            "El número es primo.\n"
          ]
        }
      ]
    },
    {
      "cell_type": "markdown",
      "source": [
        "8 - Vamos a comprender la distribución de edades de los pensionistas de una empresa de seguros. Escribe un programa que lea las edades de una cantidad no informada de clientes y muestre la distribución en los intervalos [0-25], [26-50], [51-75] y [76-100]. La entrada de datos se detendrá al ingresar un número negativo."
      ],
      "metadata": {
        "id": "5FkSrUB34t9_"
      }
    },
    {
      "cell_type": "code",
      "source": [
        "es_salida = False\n",
        "c_0_25 = []\n",
        "c_26_50 = []\n",
        "c_51_75 = []\n",
        "c_76_100 = []\n",
        "\n",
        "while not es_salida:\n",
        "    edad_cliente = int(input('Ingresa la edad del cliente: ').strip())\n",
        "\n",
        "    if edad_cliente < 0:\n",
        "        es_salida = True\n",
        "    else:\n",
        "        if 0 <= edad_cliente <= 25:\n",
        "            c_0_25.append(edad_cliente)\n",
        "        elif 26 <= edad_cliente <= 50:\n",
        "            c_26_50.append(edad_cliente)\n",
        "        elif 51 <= edad_cliente <= 75:\n",
        "            c_51_75.append(edad_cliente)\n",
        "        elif 76 <= edad_cliente <= 100:\n",
        "            c_76_100.append(edad_cliente)\n",
        "        else:\n",
        "            print('Añade un valor válido, entre 0 y 100.')\n",
        "            continue\n",
        "\n",
        "if len(c_0_25) == 0 and len(c_26_50) == 0 and len(c_51_75) == 0 and len(c_76_100) == 0:\n",
        "    print('No se ingresaron valores. Saliendo del sistema.')\n",
        "else:\n",
        "    print(f'''\\nEsta es la distribución de edades:\n",
        "    0 - 25: {len(c_0_25)} {'persona' if len(c_0_25) == 1 else 'personas'}\n",
        "    26 - 50: {len(c_26_50)} {'persona' if len(c_26_50) == 1 else 'personas'}\n",
        "    51 - 75: {len(c_51_75)} {'persona' if len(c_51_75) == 1 else 'personas'}\n",
        "    76 - 100: {len(c_76_100)} {'persona' if len(c_76_100) == 1 else 'personas'}''')"
      ],
      "metadata": {
        "colab": {
          "base_uri": "https://localhost:8080/"
        },
        "id": "mHQXO5LM4w5w",
        "outputId": "10e63476-b8c8-4c5e-be5f-da2fac091d87"
      },
      "execution_count": null,
      "outputs": [
        {
          "output_type": "stream",
          "name": "stdout",
          "text": [
            "Ingresa la edad del cliente: -1\n",
            "No se ingresaron valores. Saliendo del sistema.\n"
          ]
        }
      ]
    },
    {
      "cell_type": "markdown",
      "source": [
        "9 - En una elección para la gerencia de una empresa con 20 empleados, hay cuatro candidatos. Escribe un programa que calcule al ganador de la elección. La votación se realizó de la siguiente manera:\n",
        "\n",
        "Cada empleado votó por uno de los cuatro candidatos (representados por los números 1, 2, 3 y 4).\n",
        "\n",
        "También se contaron los votos nulos (representados por el número 5) y los votos en blanco (representados por el número 6).\n",
        "\n",
        "Al final de la votación, el programa debe mostrar el número total de votos para cada candidato, los votos nulos y los votos en blanco. Además, debe calcular y mostrar el porcentaje de votos nulos con respecto al total de votos y el porcentaje de votos en blanco con respecto al total de votos."
      ],
      "metadata": {
        "id": "x6q7VSoG_e-Y"
      }
    },
    {
      "cell_type": "code",
      "source": [
        "c_1 = c_2 = c_3 = c_4 = c_5 = c_6 = 0\n",
        "\n",
        "for i in range(0,20):\n",
        "    c_voto = int(input('Ingresa el número del candidato: '))\n",
        "\n",
        "    if c_voto == 1:\n",
        "        c_1 += 1\n",
        "    elif c_voto == 2:\n",
        "        c_2 += 1\n",
        "    elif c_voto == 3:\n",
        "        c_3 += 1\n",
        "    elif c_voto == 4:\n",
        "        c_4 += 1\n",
        "    elif c_voto == 5:\n",
        "        c_5 += 1\n",
        "    elif c_voto == 6:\n",
        "        c_6 += 1\n",
        "    else:\n",
        "        print('Ingresa un valor válido.')\n",
        "        continue\n",
        "\n",
        "votos_totales = c_1 + c_2 + c_3 + c_4 + c_5 + c_6\n",
        "\n",
        "print(f'''\\nResultados de las votaciones:\n",
        "Candidato 1: {c_1} {'voto' if c_1 == 1 else 'votos'}\n",
        "Candidato 2: {c_2} {'voto' if c_2 == 1 else 'votos'}\n",
        "Candidato 3: {c_3} {'voto' if c_3 == 1 else 'votos'}\n",
        "Candidato 4: {c_4} {'voto' if c_4 == 1 else 'votos'}\n",
        "Votos nulos: {c_5} {'voto' if c_5 == 1 else 'votos'}\n",
        "Votos en blanco: {c_6} {'voto' if c_6 == 1 else 'votos'}\n",
        "\n",
        "El porcentaje de votos nulos fue del {(c_5 / votos_totales) * 100:.2f}%\n",
        "El porcentaje de votos en blanco fue del {(c_6 / votos_totales) * 100:.2f}%''')"
      ],
      "metadata": {
        "colab": {
          "base_uri": "https://localhost:8080/"
        },
        "id": "wpN3FSAQ_iML",
        "outputId": "cc6ed387-d641-4657-9da6-f5c440a173e7"
      },
      "execution_count": null,
      "outputs": [
        {
          "output_type": "stream",
          "name": "stdout",
          "text": [
            "Ingresa el número del candidato: 1\n",
            "Ingresa el número del candidato: 2\n",
            "Ingresa el número del candidato: 3\n",
            "Ingresa el número del candidato: 4\n",
            "Ingresa el número del candidato: 5\n",
            "Ingresa el número del candidato: 6\n",
            "Ingresa el número del candidato: 6\n",
            "Ingresa el número del candidato: 6\n",
            "Ingresa el número del candidato: 3\n",
            "Ingresa el número del candidato: 2\n",
            "Ingresa el número del candidato: 2\n",
            "Ingresa el número del candidato: 3\n",
            "Ingresa el número del candidato: 6\n",
            "Ingresa el número del candidato: 6\n",
            "Ingresa el número del candidato: 5\n",
            "Ingresa el número del candidato: 6\n",
            "Ingresa el número del candidato: 6\n",
            "Ingresa el número del candidato: 6\n",
            "Ingresa el número del candidato: 6\n",
            "Ingresa el número del candidato: 4\n",
            "\n",
            "Resultados de las votaciones:\n",
            "Candidato 1: 1 voto\n",
            "Candidato 2: 3 votos\n",
            "Candidato 3: 3 votos\n",
            "Candidato 4: 2 votos\n",
            "Votos nulos: 2 votos\n",
            "Votos en blanco: 9 votos\n",
            "\n",
            "El porcentaje de votos nulos fue del 10.00%\n",
            "El porcentaje de votos en blanco fue del 45.00%\n"
          ]
        }
      ]
    },
    {
      "cell_type": "markdown",
      "source": [
        "## Desafio 5"
      ],
      "metadata": {
        "id": "QGKnS7-Fd2QO"
      }
    },
    {
      "cell_type": "markdown",
      "source": [
        "### Entrenando la programación"
      ],
      "metadata": {
        "id": "iDvXc0xgd-EI"
      }
    },
    {
      "cell_type": "markdown",
      "source": [
        "1 - Crea un programa que tenga la siguiente lista con los gastos de una empresa de papel [2172.54, 3701.35, 3518.09, 3456.61, 3249.38, 2840.82, 3891.45, 3075.26, 2317.64, 3219.08]. Con estos valores, crea un programa que calcule el promedio de gastos. Sugerencia: usa las funciones integradas sum() y len()."
      ],
      "metadata": {
        "id": "0YkZkdWDeALO"
      }
    },
    {
      "cell_type": "code",
      "source": [
        "import statistics as st\n",
        "\n",
        "gastos = [2172.54, 3701.35, 3518.09, 3456.61, 3249.38, 2840.82, 3891.45, 3075.26, 2317.64, 3219.08]\n",
        "print(f'El promedio de gastos es ${st.mean(gastos)}')"
      ],
      "metadata": {
        "colab": {
          "base_uri": "https://localhost:8080/"
        },
        "id": "t_5Nz3kIo3K-",
        "outputId": "fdf6233b-80c3-4bbc-ae55-c9ed24a48904"
      },
      "execution_count": null,
      "outputs": [
        {
          "output_type": "stream",
          "name": "stdout",
          "text": [
            "El promedio de gastos es $3144.222\n"
          ]
        }
      ]
    },
    {
      "cell_type": "markdown",
      "source": [
        "2 - Con los mismos datos de la pregunta anterior, determina cuántas compras se realizaron por encima de 3000 reales y calcula el porcentaje con respecto al total de compras."
      ],
      "metadata": {
        "id": "bLf1q2lfeBsu"
      }
    },
    {
      "cell_type": "code",
      "source": [
        "# Variable para guardar los gastos mayores a 3,000 reales\n",
        "gastos_filtrados = [gasto for gasto in gastos if gasto > 3000]\n",
        "# List comprehension\n",
        "porcentaje_filtro = (len(gastos_filtrados) / len(gastos)) * 100\n",
        "\n",
        "print(f'''Se detectó {len(gastos_filtrados)} {'egreso' if len(gastos_filtrados) == 1 else 'egresos'} que superan los $3,000 reales.\n",
        "Esto equivale al {porcentaje_filtro}% de todos los gastos''')"
      ],
      "metadata": {
        "colab": {
          "base_uri": "https://localhost:8080/"
        },
        "id": "nd_Pl3S1p4ep",
        "outputId": "3e45f205-8268-45c0-a5df-88c243b85209"
      },
      "execution_count": null,
      "outputs": [
        {
          "output_type": "stream",
          "name": "stdout",
          "text": [
            "Se detectó 7 egresos que superan los $3,000 reales. \n",
            "Esto equivale al 70.0% de todos los gastos\n"
          ]
        }
      ]
    },
    {
      "cell_type": "markdown",
      "source": [
        "3 - Crea un código que recoja en una lista 5 números enteros aleatorios e imprima la lista. Ejemplo: [1, 4, 7, 2, 4]."
      ],
      "metadata": {
        "id": "99qUr7-LeCt0"
      }
    },
    {
      "cell_type": "code",
      "source": [
        "# módulo para generar números aleatorios\n",
        "import random\n",
        "\n",
        "numeros_enteros = []\n",
        "\n",
        "# Generamos un bucle que se ejecute cinco veces\n",
        "for i in range(0,5):\n",
        "    numeros_enteros.append(random.randint(1,100))\n",
        "\n",
        "print(numeros_enteros)"
      ],
      "metadata": {
        "colab": {
          "base_uri": "https://localhost:8080/"
        },
        "id": "JkCffGxZ_gwK",
        "outputId": "a42dad5c-72a1-4681-960f-4930560ed859"
      },
      "execution_count": null,
      "outputs": [
        {
          "output_type": "stream",
          "name": "stdout",
          "text": [
            "[59, 24, 89, 45, 39]\n"
          ]
        }
      ]
    },
    {
      "cell_type": "markdown",
      "source": [
        "4 - Recoge nuevamente 5 números enteros e imprime la lista en orden inverso al enviado."
      ],
      "metadata": {
        "id": "FRf90luSeECu"
      }
    },
    {
      "cell_type": "code",
      "source": [
        "# módulo para generar números aleatorios\n",
        "import random\n",
        "\n",
        "# Se utiliza un bucle con variable desechable para generar 5 números aleatorios\n",
        "numeros_enteros = [random.randint(1,100) for _ in range(5)]\n",
        "# Después, se recorre la lista de forma inversa para colocarla en una nueva lista\n",
        "# inicio:final:saltos, default = 0:final_de_lista:-1\n",
        "numeros_enteros_invertidos = numeros_enteros[::-1]\n",
        "\n",
        "print(f'''Lista original:\n",
        "{numeros_enteros}\n",
        "\n",
        "Lista invertida:\n",
        "{numeros_enteros_invertidos}''')"
      ],
      "metadata": {
        "colab": {
          "base_uri": "https://localhost:8080/"
        },
        "id": "l8Si_Mit_39o",
        "outputId": "d786d741-d0f0-4fda-de6f-212d5055fc00"
      },
      "execution_count": null,
      "outputs": [
        {
          "output_type": "stream",
          "name": "stdout",
          "text": [
            "Lista original:\n",
            "[10, 55, 26, 89, 58]\n",
            "      \n",
            "Lista invertida:\n",
            "[58, 89, 26, 55, 10]\n"
          ]
        }
      ]
    },
    {
      "cell_type": "markdown",
      "source": [
        "5 - Crea un programa que, al ingresar un número cualquiera, genere una lista que contenga todos los números primos entre 1 y el número ingresado."
      ],
      "metadata": {
        "id": "nlxogSsheFed"
      }
    },
    {
      "cell_type": "code",
      "source": [
        "numero_usuario = int(input('Ingresa un número: ').strip())\n",
        "numeros_primos = []\n",
        "\n",
        "# Función para saber si un número es primo\n",
        "def es_primo(n):\n",
        "    # Validamos si el número que se envía es 0 o 1.\n",
        "    if n <= 1: return False\n",
        "    # Iniciamos un bucle desde 2 (excluyendo 0 y 1). No contamos todos los números,\n",
        "    # Solo hasta el entero del resultado de su raíz cuadrada. Retorna falso en el primer divisor que salga\n",
        "    for i in range(2, int(n**0.5) + 1):\n",
        "        if n % i == 0: return False\n",
        "    # Si es verdadero, significa que es primo.\n",
        "    return True\n",
        "\n",
        "# Definimos el límite y validamos cada número con la función anterior. Después, solo lo añadimos a la lista.\n",
        "for i in range(1, (numero_usuario + 1)):\n",
        "    if es_primo(i):\n",
        "        numeros_primos.append(i)\n",
        "    else:\n",
        "        continue\n",
        "\n",
        "print(f'''Los números primos entre el 1 y el {numero_usuario} son:\n",
        "{numeros_primos}''')"
      ],
      "metadata": {
        "id": "eYRzFsrjHIGw",
        "colab": {
          "base_uri": "https://localhost:8080/"
        },
        "outputId": "a127b37a-fc2b-4473-a9f7-6bc61b7ea8fc"
      },
      "execution_count": 2,
      "outputs": [
        {
          "output_type": "stream",
          "name": "stdout",
          "text": [
            "Ingresa un número: 10\n",
            "Los números primos entre el 1 y el 10 son:\n",
            "[2, 3, 5, 7]\n"
          ]
        }
      ]
    },
    {
      "cell_type": "markdown",
      "source": [
        "6 - Escribe un programa que pida una fecha, especificando el día, mes y año, y determine si es válida para su análisis."
      ],
      "metadata": {
        "id": "7q85PI5ZeGwn"
      }
    },
    {
      "cell_type": "code",
      "source": [
        "fecha_completa = ''\n",
        "meses_31_dias = [1,3,5,7,8,10,12]\n",
        "meses_30_dias = [4,6,9,11]\n",
        "meses_28_29_dias = [2]\n",
        "\n",
        "for i in range(0,3):\n",
        "    apartado_fecha = ''\n",
        "    es_valido = False\n",
        "\n",
        "    # Validamos las iteraciones del bucle y así lo recorremos en orden\n",
        "    if i == 0:\n",
        "        apartado_fecha = 'mes'\n",
        "    elif i == 1:\n",
        "        apartado_fecha = 'día'\n",
        "    else:\n",
        "        apartado_fecha = 'año'\n",
        "\n",
        "    # Este while valida que el valor ingresado sea válido, si no lo es, se repetirá hasta que lo sea\n",
        "    while not es_valido:\n",
        "        numero_usuario = int(input(f'Ingresa el {apartado_fecha}: ').strip())\n",
        "\n",
        "        # Iteración de meses\n",
        "        if i == 0:\n",
        "            if 0 < numero_usuario <= 12:\n",
        "                mes_actual = numero_usuario\n",
        "                es_valido = True\n",
        "                fecha_completa += f'{numero_usuario}/'\n",
        "            else:\n",
        "                print('Ingresa un mes válido.\\n')\n",
        "        # Iteración de días\n",
        "        elif i == 1:\n",
        "            # Validamos que el mes ingresado sea válido y dependiendo de este, los días que se pueden colocar\n",
        "            if mes_actual in meses_31_dias:\n",
        "                if 0 < numero_usuario <= 31:\n",
        "                    fecha_completa += f'{numero_usuario}/'\n",
        "                    es_valido = True\n",
        "                else:\n",
        "                    print('Ingresa un valor válido\\n')\n",
        "            elif mes_actual in meses_30_dias:\n",
        "                if 0 < numero_usuario <= 30:\n",
        "                    fecha_completa += f'{numero_usuario}/'\n",
        "                    es_valido = True\n",
        "                else:\n",
        "                    print('Ingresa un valor válido\\n')\n",
        "            elif mes_actual in meses_28_29_dias:\n",
        "                if 0 < numero_usuario <= 29:\n",
        "                    fecha_completa += f'{numero_usuario}/'\n",
        "                    es_valido = True\n",
        "                else:\n",
        "                    print('Ingresa un valor válido\\n')\n",
        "            else:\n",
        "                print('Ingresa un valor válido\\n')\n",
        "        # Iteración de años\n",
        "        else:\n",
        "            # Con estas condiciones, solo validamos que el número de año siempre se muestre a 4 dígitos\n",
        "            if 0 < numero_usuario <= 9999:\n",
        "                fecha_completa += f'{numero_usuario:04d}'\n",
        "                es_valido = True\n",
        "            else:\n",
        "                print('Ingresa un valor entre 0 y 9999.')\n",
        "\n",
        "print(f'La fecha que ingresaste es {fecha_completa}')"
      ],
      "metadata": {
        "colab": {
          "base_uri": "https://localhost:8080/"
        },
        "id": "Jam5Slb-pAux",
        "outputId": "3ccba968-74f4-46df-904e-95fcb2677017"
      },
      "execution_count": 3,
      "outputs": [
        {
          "output_type": "stream",
          "name": "stdout",
          "text": [
            "Ingresa el mes: 3\n",
            "Ingresa el día: 30\n",
            "Ingresa el año: 1995\n",
            "La fecha que ingresaste es 3/30/1995\n"
          ]
        }
      ]
    },
    {
      "cell_type": "markdown",
      "source": [
        "### Momento para los proyectos"
      ],
      "metadata": {
        "id": "kcEwqXjpeHwh"
      }
    },
    {
      "cell_type": "markdown",
      "source": [
        "7 - Para un estudio sobre la multiplicación de bacterias en una colonia, se recopiló el número de bacterias multiplicadas por día y se puede observar a continuación: [1.2, 2.1, 3.3, 5.0, 7.8, 11.3, 16.6, 25.1, 37.8, 56.9]. Con estos valores, crea un código que genere una lista que contenga el porcentaje de crecimiento de bacterias por día, comparando el número de bacterias en cada día con el número de bacterias del día anterior. Sugerencia: para calcular el porcentaje de crecimiento, utiliza la siguiente ecuación: 100 * (muestra_actual - muestra_anterior) / muestra_anterior."
      ],
      "metadata": {
        "id": "kXLl8JxreKJs"
      }
    },
    {
      "cell_type": "code",
      "source": [
        "crecimiento_por_dia = [1.2, 2.1, 3.3, 5.0, 7.8, 11.3, 16.6, 25.1, 37.8, 56.9]\n",
        "\n",
        "for i in range(0,(len(crecimiento_por_dia) - 1)):\n",
        "    porcentaje_crecimiento = ((crecimiento_por_dia[i + 1] - crecimiento_por_dia[i]) / crecimiento_por_dia[i]) * 100\n",
        "    print(f'Crecimiento del día {i + 1}: {porcentaje_crecimiento:.2f}%')"
      ],
      "metadata": {
        "colab": {
          "base_uri": "https://localhost:8080/"
        },
        "id": "fPugQ08OwOvF",
        "outputId": "ada1c9b8-5af1-4e3d-c019-a3bb62c97524"
      },
      "execution_count": 4,
      "outputs": [
        {
          "output_type": "stream",
          "name": "stdout",
          "text": [
            "Crecimiento del día 1: 75.00%\n",
            "Crecimiento del día 2: 57.14%\n",
            "Crecimiento del día 3: 51.52%\n",
            "Crecimiento del día 4: 56.00%\n",
            "Crecimiento del día 5: 44.87%\n",
            "Crecimiento del día 6: 46.90%\n",
            "Crecimiento del día 7: 51.20%\n",
            "Crecimiento del día 8: 50.60%\n",
            "Crecimiento del día 9: 50.53%\n"
          ]
        }
      ]
    },
    {
      "cell_type": "markdown",
      "source": [
        "8 - Para una selección de productos alimenticios, debemos separar el conjunto de IDs proporcionados por números enteros, sabiendo que los productos con ID par son dulces y los que tienen ID impar son amargos. Crea un código que recoja 10 IDs. Luego, calcula y muestra la cantidad de productos dulces y amargos."
      ],
      "metadata": {
        "id": "4ft8JDDzeLey"
      }
    },
    {
      "cell_type": "code",
      "source": [
        "productos_dulces = []\n",
        "productos_amargos = []\n",
        "\n",
        "for i in range(0,10):\n",
        "    producto = int(input('Ingresa el ID del producto: ').strip())\n",
        "\n",
        "    if producto % 2 == 0:\n",
        "        productos_dulces.append(producto)\n",
        "    elif producto % 2 == 1:\n",
        "        productos_amargos.append(producto)\n",
        "\n",
        "print(f'''\\nLista de productos:\n",
        "Productos dulces: {len(productos_dulces)}\n",
        "Productos amargos: {len(productos_amargos)}''')"
      ],
      "metadata": {
        "colab": {
          "base_uri": "https://localhost:8080/"
        },
        "id": "fPtg7JGnzeyR",
        "outputId": "d864c3be-7719-4deb-b81a-69f6ff11d5af"
      },
      "execution_count": 5,
      "outputs": [
        {
          "output_type": "stream",
          "name": "stdout",
          "text": [
            "Ingresa el ID del producto: 10\n",
            "Ingresa el ID del producto: 80\n",
            "Ingresa el ID del producto: 10\n",
            "Ingresa el ID del producto: 21\n",
            "Ingresa el ID del producto: 55\n",
            "Ingresa el ID del producto: 33\n",
            "Ingresa el ID del producto: 10\n",
            "Ingresa el ID del producto: 20\n",
            "Ingresa el ID del producto: 30\n",
            "Ingresa el ID del producto: 55\n",
            "\n",
            "Lista de productos: \n",
            "Productos dulces: 6\n",
            "Productos amargos: 4\n"
          ]
        }
      ]
    },
    {
      "cell_type": "markdown",
      "source": [
        "9 - Desarrolla un programa que informe la puntuación de un estudiante de acuerdo con sus respuestas. Debe pedir la respuesta del estudiante para cada pregunta y verificar si la respuesta coincide con el resultado. Cada pregunta vale un punto y hay opciones A, B, C o D.\n",
        "\n",
        "Resultado del examen:  \n",
        "01 - D  \n",
        "02 - A  \n",
        "03 - C  \n",
        "04 - B  \n",
        "05 - A  \n",
        "06 - D  \n",
        "07 - C  \n",
        "08 - C  \n",
        "09 - A  \n",
        "10 - B  \n"
      ],
      "metadata": {
        "id": "hy1zcJgEeNAg"
      }
    },
    {
      "cell_type": "code",
      "source": [
        "indices_validos = ['a','b','c','d']\n",
        "respuestas_correctas = ['d','a','c','b','a','d','c','c','a','b']\n",
        "respuestas_estudiante = []\n",
        "aciertos = 0\n",
        "\n",
        "for i in range(0,10):\n",
        "    # Validamos que la respuesta del usuario sea un carácter válido\n",
        "    while True:\n",
        "        respuesta = input(f'\\nPregunta {i + 1}:\\nA B C D\\nIngresa la respuesta correcta: ').lower()\n",
        "        if respuesta in indices_validos:\n",
        "            respuestas_estudiante.append(respuesta)\n",
        "            break\n",
        "        else:\n",
        "            print('Ingresa un índice válido.')\n",
        "    # Validamos al instante que la respuesta sea correcta\n",
        "    if respuestas_estudiante[i] == respuestas_correctas[i]: aciertos += 1\n",
        "\n",
        "print(f'''\\n*** Resultados ***\n",
        "Aciertos: {aciertos}/{len(respuestas_correctas)}\n",
        "Calificación: {(aciertos / len(respuestas_correctas) * 100):.2f}''')"
      ],
      "metadata": {
        "colab": {
          "base_uri": "https://localhost:8080/"
        },
        "id": "ggoKgpta4t0Z",
        "outputId": "1c933352-daef-4b69-f35f-cf895ca73efc"
      },
      "execution_count": 6,
      "outputs": [
        {
          "output_type": "stream",
          "name": "stdout",
          "text": [
            "\n",
            "Pregunta 1:\n",
            "A B C D\n",
            "Ingresa la respuesta correcta: d\n",
            "\n",
            "Pregunta 2:\n",
            "A B C D\n",
            "Ingresa la respuesta correcta: a\n",
            "\n",
            "Pregunta 3:\n",
            "A B C D\n",
            "Ingresa la respuesta correcta: c\n",
            "\n",
            "Pregunta 4:\n",
            "A B C D\n",
            "Ingresa la respuesta correcta: b\n",
            "\n",
            "Pregunta 5:\n",
            "A B C D\n",
            "Ingresa la respuesta correcta: a\n",
            "\n",
            "Pregunta 6:\n",
            "A B C D\n",
            "Ingresa la respuesta correcta: d\n",
            "\n",
            "Pregunta 7:\n",
            "A B C D\n",
            "Ingresa la respuesta correcta: c\n",
            "\n",
            "Pregunta 8:\n",
            "A B C D\n",
            "Ingresa la respuesta correcta: a\n",
            "\n",
            "Pregunta 9:\n",
            "A B C D\n",
            "Ingresa la respuesta correcta: b\n",
            "\n",
            "Pregunta 10:\n",
            "A B C D\n",
            "Ingresa la respuesta correcta: c\n",
            "\n",
            "*** Resultados ***\n",
            "Aciertos: 7/10\n",
            "Calificación: 70.00\n"
          ]
        }
      ]
    },
    {
      "cell_type": "markdown",
      "source": [
        "10 - Un instituto de meteorología desea realizar un estudio de la temperatura media de cada mes del año. Para ello, debes crear un código que recoja y almacene esas temperaturas medias en una lista. Luego, calcula el promedio anual de las temperaturas y muestra todas las temperaturas por encima del promedio anual y en qué mes ocurrieron, mostrando los meses por su nombre (Enero, Febrero, etc.)."
      ],
      "metadata": {
        "id": "ANPdmy5EeTZ6"
      }
    },
    {
      "cell_type": "code",
      "source": [
        "import statistics as st\n",
        "\n",
        "meses = ['Enero', 'Febrero', 'Marzo', 'Abril', 'Mayo', 'Junio', 'Julio', 'Agosto', 'Septiembre', 'Octubre', 'Noviembre', 'Diciembre']\n",
        "temperatura_media_mes = []\n",
        "promedio_anual = 0\n",
        "\n",
        "for i in range(0,12):\n",
        "    temperatura = float(input(f'Ingresa la temperatura del mes de {meses[i]}: '))\n",
        "\n",
        "    temperatura_media_mes.append(temperatura)\n",
        "\n",
        "promedio_anual = round(st.mean(temperatura_media_mes),2)\n",
        "\n",
        "print(f'''\\nEl promedio de temperaturas de este año fue de {promedio_anual}°.\n",
        "Esta es la lista de meses que superaron el promedio anual:''')\n",
        "for i in range(0,len(temperatura_media_mes)):\n",
        "    if promedio_anual < temperatura_media_mes[i]: print(f'{meses[i]} con {temperatura_media_mes[i]}°')"
      ],
      "metadata": {
        "colab": {
          "base_uri": "https://localhost:8080/"
        },
        "id": "gJqSikD28S5q",
        "outputId": "fea38876-bc12-4da6-83fd-a0e2922fc0f1"
      },
      "execution_count": 7,
      "outputs": [
        {
          "output_type": "stream",
          "name": "stdout",
          "text": [
            "Ingresa la temperatura del mes de Enero: 10\n",
            "Ingresa la temperatura del mes de Febrero: 10\n",
            "Ingresa la temperatura del mes de Marzo: 80\n",
            "Ingresa la temperatura del mes de Abril: 60\n",
            "Ingresa la temperatura del mes de Mayo: 20\n",
            "Ingresa la temperatura del mes de Junio: 10\n",
            "Ingresa la temperatura del mes de Julio: 30\n",
            "Ingresa la temperatura del mes de Agosto: 10\n",
            "Ingresa la temperatura del mes de Septiembre: 80\n",
            "Ingresa la temperatura del mes de Octubre: 10\n",
            "Ingresa la temperatura del mes de Noviembre: 10\n",
            "Ingresa la temperatura del mes de Diciembre: 10\n",
            "\n",
            "El promedio de temperaturas de este año fue de 28.33°.\n",
            "Esta es la lista de meses que superaron el promedio anual:\n",
            "Marzo con 80.0°\n",
            "Abril con 60.0°\n",
            "Julio con 30.0°\n",
            "Septiembre con 80.0°\n"
          ]
        }
      ]
    },
    {
      "cell_type": "markdown",
      "source": [
        "11 - Una empresa de comercio electrónico está interesada en analizar las ventas de sus productos. Los datos de ventas se han almacenado en un diccionario:\n",
        "\n",
        "{'Producto A': 300, 'Producto B': 80, 'Producto C': 60, 'Producto D': 200, 'Producto E': 250, 'Producto F': 30}\n",
        "\n",
        "Escribe un código que calcule el total de ventas y el producto más vendido."
      ],
      "metadata": {
        "id": "REZl5k5FeUxh"
      }
    },
    {
      "cell_type": "code",
      "source": [
        "ventas = {'Producto A': 300, 'Producto B': 80, 'Producto C': 60, 'Producto D': 200, 'Producto E': 250, 'Producto F': 30}\n",
        "\n",
        "print(f'''\\nTotal de ventas: {sum(ventas.values())}\n",
        "Producto más vendido: {max(ventas, key=ventas.get)} con {ventas[max(ventas, key=ventas.get)]} ventas''')"
      ],
      "metadata": {
        "colab": {
          "base_uri": "https://localhost:8080/"
        },
        "id": "wOBZVrGcBvRp",
        "outputId": "ca200d00-b619-4497-ab3a-d5687a2407dc"
      },
      "execution_count": 8,
      "outputs": [
        {
          "output_type": "stream",
          "name": "stdout",
          "text": [
            "\n",
            "Total de ventas: 920\n",
            "Producto más vendido: Producto A con 300 ventas\n"
          ]
        }
      ]
    },
    {
      "cell_type": "markdown",
      "source": [
        "12 - Se realizó una encuesta de mercado para decidir cuál diseño de marca infantil es más atractivo para los niños. Los votos de la encuesta se pueden ver a continuación:\n",
        "\n",
        "Tabla de votos de la marca  \n",
        "Diseño 1 - 1334 votos  \n",
        "Diseño 2 - 982 votos  \n",
        "Diseño 3 - 1751 votos  \n",
        "Diseño 4 - 210 votos  \n",
        "Diseño 5 - 1811 votos  \n",
        "\n",
        "Adapta los datos proporcionados a una estructura de diccionario. A partir de ello, informa el diseño ganador y el porcentaje de votos recibidos."
      ],
      "metadata": {
        "id": "8_pJx2KTeYNM"
      }
    },
    {
      "cell_type": "code",
      "source": [
        "votos_disenios = {'Diseño 1' : 1334, 'Diseño 2' : 982, 'Diseño 3' : 1751,\n",
        "                 'Diseño 4' : 210, 'Diseño 5' : 1811}\n",
        "\n",
        "disenio_ganador = max(votos_disenios, key=votos_disenios.get)\n",
        "total_votos = sum(votos_disenios.values())\n",
        "\n",
        "print(f'''El {disenio_ganador} fue el ganador con {votos_disenios[disenio_ganador]} votos.\n",
        "Estos representan el {(votos_disenios[disenio_ganador] / total_votos) * 100:.2f}% de los votos totales.''')"
      ],
      "metadata": {
        "colab": {
          "base_uri": "https://localhost:8080/"
        },
        "id": "1D6BgEx-FSWR",
        "outputId": "16095c15-a785-4ef4-dc13-3ca9421c5142"
      },
      "execution_count": 9,
      "outputs": [
        {
          "output_type": "stream",
          "name": "stdout",
          "text": [
            "El Diseño 5 fue el ganador con 1811 votos.\n",
            "Estos representan el 29.75% de los votos totales.\n"
          ]
        }
      ]
    },
    {
      "cell_type": "markdown",
      "source": [
        "13 - Los empleados de un departamento de tu empresa recibirán una bonificación del 10% de su salario debido a un excelente rendimiento del equipo. El departamento de finanzas ha solicitado tu ayuda para verificar las consecuencias financieras de esta bonificación en los recursos. Se te ha enviado una lista con los salarios que recibirán la bonificación: [1172, 1644, 2617, 5130, 5532, 6341, 6650, 7238, 7685, 7782, 7903]. La bonificación de cada empleado no puede ser inferior a 200. En el código, convierte cada uno de los salarios en claves de un diccionario y la bonificación de cada salario en el valor correspondiente. Luego, informa el gasto total en bonificaciones, cuántos empleados recibieron la bonificación mínima y cuál fue el valor más alto de la bonificación proporcionada."
      ],
      "metadata": {
        "id": "4UkftHUxef1S"
      }
    },
    {
      "cell_type": "code",
      "source": [
        "lista_salarios = [1172, 1644, 2617, 5130, 5532, 6341, 6650, 7238, 7685, 7782, 7903]\n",
        "salario_con_bonificacion = {}\n",
        "\n",
        "# Realizamos los cálculos con un bucle para recorrer toda la lista\n",
        "for i in lista_salarios:\n",
        "    bonificacion = round((i * 0.10),2)\n",
        "    # Añadimos el resultado al diccionario donde el nombre representa el sueldo y su valor es la bonificación\n",
        "    salario_con_bonificacion[f'Sueldo de {i}'] = 200 if bonificacion < 200 else bonificacion\n",
        "\n",
        "# Operaciones para informes\n",
        "total_bonificaciones = sum(salario_con_bonificacion.values())\n",
        "# Por esta comprensión de lista generamos una lista temporal con la condicional solicitada\n",
        "# para saber cuantos colaboradores obtuvieron la bonificación mínima\n",
        "salarios_minima_bonificacion = len([clave for clave, valor in salario_con_bonificacion.items() if valor == 200])\n",
        "\n",
        "print(f'''*** Resultados ***\n",
        "Gasto total por bonificaciones: ${total_bonificaciones}\n",
        "Colaboradores con bonificación mínima: {salarios_minima_bonificacion}\n",
        "La bonificación máxima fue de ${max(salario_con_bonificacion.values())}''')"
      ],
      "metadata": {
        "colab": {
          "base_uri": "https://localhost:8080/"
        },
        "id": "KPKBNGtPVAq-",
        "outputId": "7dc25407-5cf4-419a-ed08-887c150f65cb"
      },
      "execution_count": 11,
      "outputs": [
        {
          "output_type": "stream",
          "name": "stdout",
          "text": [
            "*** Resultados ***\n",
            "Gasto total por bonificaciones: $6087.8\n",
            "Colaboradores con bonificación mínima: 2\n",
            "La bonificación máxima fue de $790.3\n"
          ]
        }
      ]
    },
    {
      "cell_type": "markdown",
      "source": [
        "14 - Un equipo de científicos de datos está estudiando la diversidad biológica en un bosque. El equipo recopiló información sobre el número de especies de plantas y animales en cada área del bosque y almacenó estos datos en un diccionario. En él, la clave describe el área de los datos y los valores en las listas corresponden a las especies de plantas y animales en esas áreas, respectivamente.\n",
        "\n",
        "{'Área Norte': [2819, 7236], 'Área Leste': [1440, 9492], 'Área Sul': [5969, 7496], 'Área Oeste': [14446, 49688], 'Área Centro': [22558, 45148]}\n",
        "\n",
        "Escribe un código para calcular el promedio de especies por área e identificar el área con la mayor diversidad biológica. Sugerencia: utiliza las funciones incorporadas sum() y len()."
      ],
      "metadata": {
        "id": "3Gh6AJvzehEt"
      }
    },
    {
      "cell_type": "code",
      "source": [
        "especies_por_area = {'Área Norte': [2819, 7236], 'Área Leste': [1440, 9492],\n",
        "                     'Área Sul': [5969, 7496], 'Área Oeste': [14446, 49688],\n",
        "                     'Área Centro': [22558, 45148]}\n",
        "\n",
        "# Para cada registro, sumamos las plantas y los animales\n",
        "especies_por_area = {clave: sum(valor) for clave, valor in especies_por_area.items()}\n",
        "# En base al resultado obtenido se obtiene el promedio y el área con mayor diversidad\n",
        "promedio_especies = sum(especies_por_area.values()) / len(especies_por_area)\n",
        "area_mayor_diversidad = max(especies_por_area, key=especies_por_area.get)\n",
        "\n",
        "print(f'''El promedio de especies por área es de {promedio_especies}.\n",
        "Área con mayor diversidad: {area_mayor_diversidad} con {especies_por_area[area_mayor_diversidad]} especies.''')"
      ],
      "metadata": {
        "colab": {
          "base_uri": "https://localhost:8080/"
        },
        "id": "9r2T_WTkVZbh",
        "outputId": "38796cc7-4579-4c75-92de-1c74543b2ef4"
      },
      "execution_count": 1,
      "outputs": [
        {
          "output_type": "stream",
          "name": "stdout",
          "text": [
            "El promedio de especies por área es de 33258.4.\n",
            "Área con mayor diversidad: Área Centro con 67706 especies.\n"
          ]
        }
      ]
    },
    {
      "cell_type": "markdown",
      "source": [
        "15 - El departamento de Recursos Humanos de tu empresa te pidió ayuda para analizar las edades de los colaboradores de 4 sectores de la empresa. Para ello, te proporcionaron los siguientes datos:\n",
        "\n",
        "{'Setor A': [22, 26, 30, 30, 35, 38, 40, 56, 57, 65],  \n",
        " 'Setor B': [22, 24, 26, 33, 41, 49, 50, 54, 60, 64],  \n",
        " 'Setor C': [23, 26, 26, 29, 34, 35, 36, 41, 52, 56],  \n",
        " 'Setor D': [19, 20, 25, 27, 34, 39, 42, 44, 50, 65]}  \n",
        "\n",
        " Dado que cada sector tiene 10 colaboradores, construye un código que calcule la media de edad de cada sector, la edad media general entre todos los sectores y cuántas personas están por encima de la edad media general."
      ],
      "metadata": {
        "id": "HCmtHLMKemZD"
      }
    },
    {
      "cell_type": "code",
      "source": [
        "import statistics as st\n",
        "\n",
        "edades_por_area = {'Sector A': [22, 26, 30, 30, 35, 38, 40, 56, 57, 65],\n",
        "          'Sector B': [22, 24, 26, 33, 41, 49, 50, 54, 60, 64],\n",
        "          'Sector C': [23, 26, 26, 29, 34, 35, 36, 41, 52, 56],\n",
        "          'Sector D': [19, 20, 25, 27, 34, 39, 42, 44, 50, 65]}\n",
        "\n",
        "# Obtener el promedio por área\n",
        "promedio_edades = {clave : int(st.mean(valor)) for clave, valor in edades_por_area.items()}\n",
        "# Obtener el promedio general\n",
        "promedio_general = st.mean(promedio_edades.values())\n",
        "# Cuantas personas están por encima de la media general\n",
        "personas_mayores_media = {sector: sum(1 for edad in edades if edad > promedio_general)\n",
        "                          for sector, edades in edades_por_area.items()}\n",
        "\n",
        "print(f'La media general de edades es de {promedio_general} años.')\n",
        "print('\\nEsta es la media de edades por área:')\n",
        "for clave, valor in promedio_edades.items(): print(f'{clave}: {valor} años')\n",
        "print('\\nEsta es la cantidad de personas por área que superaron la media general:')\n",
        "for clave, valor in personas_mayores_media.items(): print(f'{clave}: {valor} personas')"
      ],
      "metadata": {
        "colab": {
          "base_uri": "https://localhost:8080/"
        },
        "id": "s1mfYKjipi1A",
        "outputId": "b9552b09-8f4d-4057-a22e-9003f439b918"
      },
      "execution_count": 15,
      "outputs": [
        {
          "output_type": "stream",
          "name": "stdout",
          "text": [
            "La media general de edades es de 38 años.\n",
            "\n",
            "Esta es la media de edades por área:\n",
            "Sector A: 39 años\n",
            "Sector B: 42 años\n",
            "Sector C: 35 años\n",
            "Sector D: 36 años\n",
            "\n",
            "Esta es la cantidad de personas por área que superaron la media general:\n",
            "Sector A: 4 personas\n",
            "Sector B: 6 personas\n",
            "Sector C: 3 personas\n",
            "Sector D: 5 personas\n"
          ]
        }
      ]
    }
  ]
}