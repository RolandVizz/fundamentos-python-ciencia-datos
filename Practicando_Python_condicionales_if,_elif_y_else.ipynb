{
  "nbformat": 4,
  "nbformat_minor": 0,
  "metadata": {
    "colab": {
      "provenance": [],
      "toc_visible": true,
      "include_colab_link": true
    },
    "kernelspec": {
      "name": "python3",
      "display_name": "Python 3"
    },
    "language_info": {
      "name": "python"
    }
  },
  "cells": [
    {
      "cell_type": "markdown",
      "metadata": {
        "id": "view-in-github",
        "colab_type": "text"
      },
      "source": [
        "<a href=\"https://colab.research.google.com/github/RolandVizz/fundamentos-python-ciencia-datos/blob/main/Practicando_Python_condicionales_if%2C_elif_y_else.ipynb\" target=\"_parent\"><img src=\"https://colab.research.google.com/assets/colab-badge.svg\" alt=\"Open In Colab\"/></a>"
      ]
    },
    {
      "cell_type": "markdown",
      "source": [
        "## Monitoreando ventas en el comercio"
      ],
      "metadata": {
        "id": "JgyA0fUw8iUG"
      }
    },
    {
      "cell_type": "markdown",
      "source": [
        "Bruno gestiona un pequeño comercio y quiere saber qué producto tuvo el mejor desempeño de ventas el mes pasado. Registró la cantidad vendida de dos productos: manzanas y plátanos. Ahora, necesita escribir un programa que identifique y muestre cuál de ellos tuvo más ventas.\n",
        "\n",
        "Crea un programa que reciba el número de ventas de los dos productos y muestre un mensaje indicando cuál de ellos vendió más. Si las cantidades son iguales, muestra un mensaje diciendo que hubo un empate.\n",
        "\n",
        "**Salida esperada:**  \n",
        "![Imagen](https://cdn1.gnarususercontent.com.br/6/103811/a3bdf72e-4be5-42f5-8b3f-65c3a7285d69.png)"
      ],
      "metadata": {
        "id": "VkGN4qXm5K3p"
      }
    },
    {
      "cell_type": "code",
      "source": [
        "#Variables\n",
        "platano = manzana = 0\n",
        "\n",
        "while True:\n",
        "    print('''*** Menú ***\n",
        "    Ingresa el número del producto a vender:\n",
        "    1. Manzana\n",
        "    2. Platano\n",
        "    3. Salir''')\n",
        "\n",
        "    venta = int(input('Ingresa el producto a vender: ').strip())\n",
        "\n",
        "    if 0 < venta <= 2:\n",
        "        cantidad_vendida = int(input('Ingresa la cantidad de productos: ').strip())\n",
        "\n",
        "        if venta == 1:\n",
        "            manzana += cantidad_vendida\n",
        "        if venta == 2:\n",
        "            platano += cantidad_vendida\n",
        "        print()\n",
        "    elif venta == 3:\n",
        "        print('Saliendo del sistema.\\n')\n",
        "        break\n",
        "    else:\n",
        "        print('Ingresa un valor válido.\\n')\n",
        "\n",
        "if manzana > platano:\n",
        "    print(f'''Resumen de cierre:\n",
        "¡El día de hoy se vendieron más manzanas!\n",
        "Total: {manzana}''')\n",
        "elif platano > manzana:\n",
        "    print(f'''Resumen de cierre:\n",
        "¡El día de hoy se vendieron más plátanos!\n",
        "Total: {platano}''')\n",
        "else:\n",
        "    print(f'''Resumen de cierre:\n",
        "Hubo un empate entre manzanas y plátanos.\n",
        "Total manzanas: {manzana}\n",
        "Total platanos: {platano}''')\n"
      ],
      "metadata": {
        "colab": {
          "base_uri": "https://localhost:8080/"
        },
        "id": "yXOrI8Pl5ucz",
        "outputId": "26b610f5-6827-4b83-b77e-670b9e8c328d"
      },
      "execution_count": null,
      "outputs": [
        {
          "output_type": "stream",
          "name": "stdout",
          "text": [
            "*** Menú ***\n",
            "    Ingresa el número del producto a vender:\n",
            "    1. Manzana\n",
            "    2. Platano\n",
            "    3. Salir\n",
            "Ingresa el producto a vender: 1\n",
            "Ingresa la cantidad de productos: 20\n",
            "\n",
            "*** Menú ***\n",
            "    Ingresa el número del producto a vender:\n",
            "    1. Manzana\n",
            "    2. Platano\n",
            "    3. Salir\n",
            "Ingresa el producto a vender: 2\n",
            "Ingresa la cantidad de productos: 30\n",
            "\n",
            "*** Menú ***\n",
            "    Ingresa el número del producto a vender:\n",
            "    1. Manzana\n",
            "    2. Platano\n",
            "    3. Salir\n",
            "Ingresa el producto a vender: 3\n",
            "Saliendo del sistema.\n",
            "\n",
            "Resumen de cierre:\n",
            "¡El día de hoy se vendieron más plátanos!\n",
            "Total: 30\n"
          ]
        }
      ]
    },
    {
      "cell_type": "markdown",
      "source": [
        "## Temperatura de los servidores"
      ],
      "metadata": {
        "id": "59tPfZxW8udr"
      }
    },
    {
      "cell_type": "markdown",
      "source": [
        "Lucas trabaja en TI y necesita garantizar que la temperatura de una sala de servidores no supere los 25°C. Quiere un programa que reciba la temperatura actual como entrada y, si es necesario, muestre un mensaje de alerta.\n",
        "\n",
        "**Salida esperada:**  \n",
        "![Imagen](https://cdn1.gnarususercontent.com.br/6/103811/a98da982-a4c9-443b-ad30-b991546d7186.png)"
      ],
      "metadata": {
        "id": "TqDX4JLi5w_q"
      }
    },
    {
      "cell_type": "code",
      "source": [
        "temperatura_actual = float(input(\"Ingresa la temperatura actual: \"))\n",
        "\n",
        "if temperatura_actual > 25:\n",
        "    print('¡Alerta! Temperatura por encima del límite permitido.')\n",
        "elif 23 < temperatura_actual <= 25:\n",
        "    print('Precaución. Temperatura cerca de rebazar el límite permitido.')\n",
        "else:\n",
        "    print('Temperatura normal.')"
      ],
      "metadata": {
        "colab": {
          "base_uri": "https://localhost:8080/"
        },
        "id": "QVO61gzSCwUV",
        "outputId": "99325e5e-0c30-4cd8-ccb7-4d3ee9e2d0b6"
      },
      "execution_count": null,
      "outputs": [
        {
          "output_type": "stream",
          "name": "stdout",
          "text": [
            "Ingresa la temperatura actual: 32\n",
            "¡Alerta! Temperatura por encima del límite permitido.\n"
          ]
        }
      ]
    },
    {
      "cell_type": "markdown",
      "source": [
        "## Calculando el tiempo total del proyecto"
      ],
      "metadata": {
        "id": "Hbp-hb3D8yQJ"
      }
    },
    {
      "cell_type": "markdown",
      "source": [
        "Camila está organizando un proyecto y necesita calcular el tiempo total necesario para concluir tres actividades: A, B y C. Sin embargo, si alguna actividad tiene un número de días negativo, el código debe avisar que los valores ingresados son inválidos y no calcular el total.\n",
        "\n",
        "Escribe un programa que reciba el número de días de tres actividades y muestre el tiempo total del proyecto. Si algún valor es negativo, muestra un mensaje informando el error.\n",
        "\n",
        "Salida esperada:  \n",
        "![Imagen](https://cdn1.gnarususercontent.com.br/6/103811/39c3a781-1d7f-4259-adfe-27cfc020e81d.png)"
      ],
      "metadata": {
        "id": "vrS-L9YG56Le"
      }
    },
    {
      "cell_type": "code",
      "source": [
        "actividad_a = int(input('Informe los días para la actividad A: ').strip())\n",
        "actividad_b= int(input('Informe los días para la actividad B: ').strip())\n",
        "actividad_c = int(input('Informe los días para la actividad C: ').strip())\n",
        "\n",
        "if actividad_a < 0 or actividad_b < 0 or actividad_c < 0:\n",
        "    print('Error: Los días no pueden ser negativos.')\n",
        "else:\n",
        "    print(f'Total de días requeridos: {actividad_a + actividad_b + actividad_c}')"
      ],
      "metadata": {
        "colab": {
          "base_uri": "https://localhost:8080/"
        },
        "id": "fN-fUxdXUnQV",
        "outputId": "041f7d83-5a3d-4cf0-e07f-39032152bb5e"
      },
      "execution_count": null,
      "outputs": [
        {
          "output_type": "stream",
          "name": "stdout",
          "text": [
            "Informe los días para la actividad A: 10\n",
            "Informe los días para la actividad B: 10\n",
            "Informe los días para la actividad C: -1\n",
            "Error: Los días no pueden ser negativos.\n"
          ]
        }
      ]
    },
    {
      "cell_type": "markdown",
      "source": [
        "##  Calculando el IMC"
      ],
      "metadata": {
        "id": "pJCnl7VN6q_e"
      }
    },
    {
      "cell_type": "markdown",
      "source": [
        "Anna Júlia está creando un sistema para calcular el Índice de Masa Corporal (IMC) y proporcionar recomendaciones básicas. El programa debe recibir el peso y la altura de una persona y mostrar el valor del IMC, además de indicar si está por debajo del peso, con peso normal o por encima del peso. Crea un programa que reciba el peso (en kg) y la altura (en metros) y calcule el IMC usando la fórmula: IMC = peso / (altura ** 2)Luego, muestra el valor del IMC y un mensaje indicando si está por debajo del peso (IMC < 18.5), peso normal (18.5 <= IMC < 25) o por encima del peso (IMC >= 25).\n",
        "\n",
        "**Salida esperada:**  \n",
        "![Imagen](https://cdn1.gnarususercontent.com.br/6/103811/de13ff06-da54-44c5-b597-6490888d0f42.png)"
      ],
      "metadata": {
        "id": "H3RPkRQD6I8T"
      }
    },
    {
      "cell_type": "code",
      "source": [
        "peso = float(input(\"Digite su peso (Kg): \").strip())\n",
        "altura = float(input(\"Digite su altura (m): \").strip())\n",
        "\n",
        "imc = peso / (altura**2)\n",
        "\n",
        "if imc < 18.5:\n",
        "    print('Te encuentras por debajo del peso ideal.')\n",
        "elif 18.5 <= imc < 25:\n",
        "    print('Tu peso se encuentra dentro de lo esperado.')\n",
        "elif imc >= 25:\n",
        "    print('Te encuentras por encima del peso ideal.')"
      ],
      "metadata": {
        "colab": {
          "base_uri": "https://localhost:8080/"
        },
        "id": "U6n6RRDVosNy",
        "outputId": "9a204023-dc17-4c84-a745-f70ea981bcba"
      },
      "execution_count": null,
      "outputs": [
        {
          "output_type": "stream",
          "name": "stdout",
          "text": [
            "Digite su peso (Kg): 95\n",
            "Digite su altura (m): 1.80\n",
            "Te encuentras por encima del peso ideal.\n"
          ]
        }
      ]
    },
    {
      "cell_type": "markdown",
      "source": [
        "##  Verificando acceso a beneficios sociales"
      ],
      "metadata": {
        "id": "JLygEkVV6njC"
      }
    },
    {
      "cell_type": "markdown",
      "source": [
        "Laura está desarrollando un sistema para saber si una persona tiene derecho a recibir un beneficio social. Para eso, la persona debe cumplir las siguientes condiciones:\n",
        "\n",
        "    Tener ingresos menores o iguales a $2,000.\n",
        "    Tener al menos un hijo o hija.\n",
        "\n",
        "Crea un programa que reciba los ingresos mensuales y la cantidad de hijos de una persona, y diga si tiene derecho al beneficio.\n"
      ],
      "metadata": {
        "id": "NwPY81RM6xXx"
      }
    },
    {
      "cell_type": "code",
      "source": [
        "ingresos_mensuales = float(input(\"¿Cuáles son tus ingresos mensuales?: \").strip())\n",
        "tiene_hijos = int(input('¿Cuántos hijos tienes?: ').strip())\n",
        "\n",
        "if 0 < ingresos_mensuales <= 2000 and tiene_hijos > 0:\n",
        "    print('Cumples con los requisitos para el beneficio.')\n",
        "else:\n",
        "    print('No cumples con los requisitos.')"
      ],
      "metadata": {
        "colab": {
          "base_uri": "https://localhost:8080/"
        },
        "id": "sv19Xn_RsqM6",
        "outputId": "6b85ad37-d433-4320-bf1a-b212df2f8288"
      },
      "execution_count": null,
      "outputs": [
        {
          "output_type": "stream",
          "name": "stdout",
          "text": [
            "¿Cuáles son tus ingresos mensuales?: 1500\n",
            "¿Cuántos hijos tienes?: 1\n",
            "Cumples con los requisitos para el beneficio.\n"
          ]
        }
      ]
    },
    {
      "cell_type": "markdown",
      "source": [
        "## Evaluación de desempeño de un empleado"
      ],
      "metadata": {
        "id": "KqQZzjzZ66Eq"
      }
    },
    {
      "cell_type": "markdown",
      "source": [
        "Una empresa evalúa a sus empleados con base en dos criterios:\n",
        "\n",
        "* Puntuación de desempeño (de 0 a 10)\n",
        "* Años trabajados\n",
        "\n",
        "Reglas:\n",
        "\n",
        "* Si la puntuación es mayor o igual a 7:\n",
        "  * Si trabajó más de 5 años: \"Elegible para ascenso\"\n",
        "  * Si trabajó 5 años o menos: \"Buen desempeño, sigue así\"\n",
        "* Si la puntuación es menor a 7: \"Necesita mejorar\"\n",
        "\n",
        "Crea un programa que reciba la puntuación y los años trabajados, y muestre el mensaje adecuado."
      ],
      "metadata": {
        "id": "tLp-JKLU67dI"
      }
    },
    {
      "cell_type": "code",
      "source": [
        "puntuacion = int(input('Ingresa la puntuación del colaborador (0 - 10): ').strip())\n",
        "anios_laborados = int(input('Ingresa los años que has laborado en la empresa: ').strip())\n",
        "\n",
        "if 7 <= puntuacion <= 10:\n",
        "    if anios_laborados > 5:\n",
        "        print('Elegible para ascenso.')\n",
        "    elif anios_laborados <= 5:\n",
        "        print('Buen desempeño, sigue así.')\n",
        "elif puntuacion < 7:\n",
        "    print('Necesita mejorar.')"
      ],
      "metadata": {
        "colab": {
          "base_uri": "https://localhost:8080/"
        },
        "id": "nVjvWWMDwI_P",
        "outputId": "c3ef3e81-0ba6-4625-8eff-dce0254cc521"
      },
      "execution_count": null,
      "outputs": [
        {
          "output_type": "stream",
          "name": "stdout",
          "text": [
            "Ingresa la puntuación del colaborador (0 - 10): 9\n",
            "Ingresa los años que has laborado en la empresa: 7\n",
            "Elegible para ascenso.\n"
          ]
        }
      ]
    },
    {
      "cell_type": "markdown",
      "source": [
        "## Juego de múltiplos mágicos"
      ],
      "metadata": {
        "id": "sk7RosW47Kqz"
      }
    },
    {
      "cell_type": "markdown",
      "source": [
        "Estás desarrollando un pequeño juego. El usuario ingresa un número entero y el programa debe evaluar lo siguiente:\n",
        "\n",
        "* Si el número es divisible por 3 y 5, muestra: \"¡Número mágico!\"\n",
        "* Si solo es divisible por 3, muestra: \"Divisible por 3\"\n",
        "* Si solo es divisible por 5, muestra: \"Divisible por 5\"\n",
        "* Si no es divisible por ninguno, muestra: \"No es un número mágico\"\n",
        "\n",
        "Este tipo de lógica es muy útil en juegos, validaciones o filtros.\n"
      ],
      "metadata": {
        "id": "Ip99MvAT7MPX"
      }
    },
    {
      "cell_type": "code",
      "source": [
        "print(\"*** Juego de múltiplos mágicos ***\")\n",
        "numero_usuario = int(input('Ingresa un número entero: '))\n",
        "\n",
        "if numero_usuario % 3 == 0 and numero_usuario % 5 == 0:\n",
        "    print('¡Número mágico!')\n",
        "elif numero_usuario % 3 == 0:\n",
        "    print('Divisible por 3.')\n",
        "elif numero_usuario % 5 == 0:\n",
        "    print('Divisible por 5.')\n",
        "else:\n",
        "    print('No es un número mágico.')"
      ],
      "metadata": {
        "colab": {
          "base_uri": "https://localhost:8080/"
        },
        "id": "0bmCmEgrymoX",
        "outputId": "ef73f297-0854-47b6-da53-2427e9452c73"
      },
      "execution_count": null,
      "outputs": [
        {
          "output_type": "stream",
          "name": "stdout",
          "text": [
            "*** Juego de múltiplos mágicos ***\n",
            "Ingresa un número entero: 15\n",
            "¡Número mágico!\n"
          ]
        }
      ]
    },
    {
      "cell_type": "markdown",
      "source": [
        "##  Sistema de clasificación para becas escolares"
      ],
      "metadata": {
        "id": "Lm4yomro7WPq"
      }
    },
    {
      "cell_type": "markdown",
      "source": [
        "Una escuela otorga becas según tres criterios:\n",
        "\n",
        "* Ingreso familiar mensual.\n",
        "* Promedio del estudiante.\n",
        "* Asistencia (en porcentaje).\n",
        "\n",
        "Reglas:\n",
        "\n",
        "* Si el ingreso es menor a \\$1,500 y el promedio es mayor a 8.0 y la asistencia es al menos 90% → \"Beca completa\"  \n",
        "* Si el ingreso es menor a \\$2,500 y promedio mayor a 7.0 y asistencia al menos 85% → \"Media beca\"  \n",
        "* En otros casos → \"No elegible para beca\""
      ],
      "metadata": {
        "id": "wwfmzh3c7XUI"
      }
    },
    {
      "cell_type": "code",
      "source": [
        "ingreso_familiar_mensual = float(input(\"¿Cuál es tu ingreso familiar mensual?: \").strip())\n",
        "promedio_estudiante = float(input('¿Cuál es el promedio del estudiante?: ').strip())\n",
        "asistencia = float(input('Ingresa el porcentaje de asistencia: ').strip())\n",
        "\n",
        "if ingreso_familiar_mensual < 1500 and promedio_estudiante > 8 and asistencia >= 90:\n",
        "    print('Beca completa.')\n",
        "elif ingreso_familiar_mensual < 2500 and promedio_estudiante > 7 and asistencia >= 85:\n",
        "    print('Media beca.')\n",
        "else:\n",
        "    print('No elegible para beca.')"
      ],
      "metadata": {
        "colab": {
          "base_uri": "https://localhost:8080/"
        },
        "id": "DLG3sHlK5vaI",
        "outputId": "3a0c180e-c06a-4bcb-c356-369e31d74f04"
      },
      "execution_count": null,
      "outputs": [
        {
          "output_type": "stream",
          "name": "stdout",
          "text": [
            "¿Cuál es tu ingreso familiar mensual?: 1200\n",
            "¿Cuál es el promedio del estudiante?: 9\n",
            "Ingresa el porcentaje de asistencia: 90\n",
            "Beca completa.\n"
          ]
        }
      ]
    },
    {
      "cell_type": "markdown",
      "source": [
        " ## Sistema de tarifas de transporte por edad y distancia"
      ],
      "metadata": {
        "id": "tCyIjwE97rBI"
      }
    },
    {
      "cell_type": "markdown",
      "source": [
        "Un sistema de transporte cobra según la edad del pasajero y la distancia recorrida:\n",
        "\n",
        "* Menores de 6 años: Viajan gratis.\n",
        "* De 6 a 18 años:\n",
        "  * Hasta 20 km: \\$1.50\n",
        "  * Más de 20 km: \\$2.50\n",
        "* Mayores de 18:\n",
        "  * Hasta 20 km: \\$2.50\n",
        "  * Más de 20 km: \\$4.00\n",
        "\n",
        "Crea un programa que reciba la edad y distancia, y muestre el valor a pagar."
      ],
      "metadata": {
        "id": "gmbc2JHr7sgq"
      }
    },
    {
      "cell_type": "code",
      "source": [
        "edad_pasajero = int(input(\"¿Cuál es tu edad?: \").strip())\n",
        "\n",
        "if edad_pasajero < 6:\n",
        "    print('Pasajero viaja gratis.')\n",
        "else:\n",
        "    kilometros = float(input('¿Cuál es la distancia recorrida? (km): ').strip())\n",
        "    if 6 <= edad_pasajero < 18:\n",
        "        if kilometros <= 20:\n",
        "            print('El costo del boleto es de $1.50.')\n",
        "        elif kilometros > 20:\n",
        "            print('El costo del boleto es de $2.50.')\n",
        "    elif edad_pasajero > 18:\n",
        "        if kilometros <= 20:\n",
        "            print('El costo del boleto es de $2.50.')\n",
        "        elif kilometros > 20:\n",
        "            print('El costo del boleto es de $4.00.')"
      ],
      "metadata": {
        "colab": {
          "base_uri": "https://localhost:8080/"
        },
        "id": "1gPYxJth7TVA",
        "outputId": "ac292a21-a6ed-48ec-97ff-73cf8a5dacd0"
      },
      "execution_count": null,
      "outputs": [
        {
          "output_type": "stream",
          "name": "stdout",
          "text": [
            "¿Cuál es tu edad?: 6\n",
            "¿Cuál es la distancia recorrida? (km): 20\n",
            "El costo del boleto es de $1.50.\n"
          ]
        }
      ]
    },
    {
      "cell_type": "markdown",
      "source": [
        "## Sistema de evaluación de desempeño empresarial"
      ],
      "metadata": {
        "id": "odduGqkA8AQM"
      }
    },
    {
      "cell_type": "markdown",
      "source": [
        "Una empresa evalúa su trimestre con base en:\n",
        "* Ingresos totales\n",
        "* Gastos totales\n",
        "* Número de nuevos clientes\n",
        "\n",
        "Clasificación:\n",
        "* Si ingresos - gastos > \\$10,000 y más de 50 nuevos clientes → \"Trimestre Excelente\"\n",
        "* Si ingresos - gastos > \\$5,000 y al menos 20 clientes → \"Trimestre Bueno\"\n",
        "* Si ingresos - gastos > 0 → \"Trimestre Regular\"\n",
        "* Si ingresos - gastos ≤ 0 → \"Trimestre Deficitario\""
      ],
      "metadata": {
        "id": "cAVz0t0A8Cve"
      }
    },
    {
      "cell_type": "code",
      "source": [
        "ingresos_totales = float(input(\"¿Cuáles son los ingresos totales?: \").strip())\n",
        "gastos_totales = float(input('¿Cuáles son los gastos totales?: ').strip())\n",
        "nuevos_clientes = int(input('Ingresa el número de clientes nuevos: ').strip())\n",
        "\n",
        "if (ingresos_totales - gastos_totales) > 10000 and nuevos_clientes > 50:\n",
        "    print('Trimestre Excelente.')\n",
        "elif (ingresos_totales - gastos_totales) > 5000 and nuevos_clientes >= 20:\n",
        "    print('Trimestre Bueno.')\n",
        "elif (ingresos_totales - gastos_totales) > 0:\n",
        "    print('Trimestre regular.')\n",
        "elif (ingresos_totales - gastos_totales) <= 0:\n",
        "    print('Trimestre Deficitario.')"
      ],
      "metadata": {
        "colab": {
          "base_uri": "https://localhost:8080/"
        },
        "id": "_YshJ5mX8243",
        "outputId": "baf969c2-f837-465f-e6ca-1ffda9a394b8"
      },
      "execution_count": null,
      "outputs": [
        {
          "output_type": "stream",
          "name": "stdout",
          "text": [
            "¿Cuáles son los ingresos totales?: 20000\n",
            "¿Cuáles son los gastos totales?: 21000\n",
            "Ingresa el número de clientes nuevos: 0\n",
            "Trimestre Deficitario.\n"
          ]
        }
      ]
    }
  ]
}